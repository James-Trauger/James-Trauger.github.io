{
 "cells": [
  {
   "cell_type": "markdown",
   "metadata": {},
   "source": [
    "# MOVIES MOVIES MOVIES !!!"
   ]
  },
  {
   "cell_type": "code",
   "execution_count": 24,
   "metadata": {},
   "outputs": [],
   "source": [
    "import requests\n",
    "import tarfile\n",
    "import numpy as np\n",
    "import pandas as pd\n",
    "from bs4 import BeautifulSoup\n"
   ]
  },
  {
   "cell_type": "markdown",
   "metadata": {},
   "source": [
    "## Step 1: Data Collection"
   ]
  },
  {
   "cell_type": "code",
   "execution_count": 27,
   "metadata": {},
   "outputs": [],
   "source": [
    "# downloading the data. These are datasets provided for non-commercial use\n",
    "url= 'https://datasets.imdbws.com/title.basics.tsv.gz';\n",
    "url2= 'https://datasets.imdbws.com/title.ratings.tsv.gz';\n",
    "\n",
    "titledata= requests.get(url);\n",
    "ratingdata= requests.get(url2);\n",
    "\n",
    "title_filename= 'title_data.tsv.gz';\n",
    "ratings_filename= 'ratings.tsv.gz';\n",
    "\n",
    "# write the files to our directory\n",
    "open(title_filename, 'wb').write(titledata.content);\n",
    "open(ratings_filename, 'wb').write(ratingdata.content);"
   ]
  },
  {
   "cell_type": "code",
   "execution_count": 28,
   "metadata": {},
   "outputs": [
    {
     "name": "stdout",
     "output_type": "stream",
     "text": [
      "      tconst titleType            primaryTitle           originalTitle  \\\n",
      "0  tt0000001     short              Carmencita              Carmencita   \n",
      "1  tt0000002     short  Le clown et ses chiens  Le clown et ses chiens   \n",
      "2  tt0000003     short          Pauvre Pierrot          Pauvre Pierrot   \n",
      "3  tt0000004     short             Un bon bock             Un bon bock   \n",
      "4  tt0000005     short        Blacksmith Scene        Blacksmith Scene   \n",
      "\n",
      "  isAdult startYear endYear runtimeMinutes                    genres  \n",
      "0       0      1894      \\N              1         Documentary,Short  \n",
      "1       0      1892      \\N              5           Animation,Short  \n",
      "2       0      1892      \\N              4  Animation,Comedy,Romance  \n",
      "3       0      1892      \\N             12           Animation,Short  \n",
      "4       0      1893      \\N              1              Comedy,Short         tconst  averageRating  numVotes\n",
      "0  tt0000001            5.7      1971\n",
      "1  tt0000002            5.8       263\n",
      "2  tt0000003            6.5      1817\n",
      "3  tt0000004            5.6       178\n",
      "4  tt0000005            6.2      2613\n"
     ]
    }
   ],
   "source": [
    "# reading the data into panda dataframes\n",
    "title_df= pd.read_csv(title_filename, sep=\"\\t\", compression=\"gzip\", dtype={'isAdult': str});\n",
    "ratings_df= pd.read_csv(ratings_filename, sep=\"\\t\", compression=\"gzip\");\n",
    "print(title_df.head(5), ratings_df.head(5))"
   ]
  },
  {
   "cell_type": "code",
   "execution_count": 29,
   "metadata": {},
   "outputs": [],
   "source": [
    "box_office_url = 'https://www.boxofficemojo.com/chart/ww_top_lifetime_gross/'\n",
    "box_req = requests.get(box_office_url)"
   ]
  },
  {
   "cell_type": "code",
   "execution_count": 30,
   "metadata": {},
   "outputs": [],
   "source": [
    "soup = BeautifulSoup(box_req.content, 'html5lib')"
   ]
  },
  {
   "cell_type": "code",
   "execution_count": 31,
   "metadata": {},
   "outputs": [
    {
     "data": {
      "text/html": [
       "<div>\n",
       "<style scoped>\n",
       "    .dataframe tbody tr th:only-of-type {\n",
       "        vertical-align: middle;\n",
       "    }\n",
       "\n",
       "    .dataframe tbody tr th {\n",
       "        vertical-align: top;\n",
       "    }\n",
       "\n",
       "    .dataframe thead th {\n",
       "        text-align: right;\n",
       "    }\n",
       "</style>\n",
       "<table border=\"1\" class=\"dataframe\">\n",
       "  <thead>\n",
       "    <tr style=\"text-align: right;\">\n",
       "      <th></th>\n",
       "      <th>Rank</th>\n",
       "      <th>Title</th>\n",
       "      <th>Worldwide Lifetime Gross</th>\n",
       "      <th>Domestic Lifetime Gross</th>\n",
       "      <th>Domestic %</th>\n",
       "      <th>Foreign Lifetime Gross</th>\n",
       "      <th>Foreign %</th>\n",
       "      <th>Year</th>\n",
       "    </tr>\n",
       "  </thead>\n",
       "  <tbody>\n",
       "    <tr>\n",
       "      <th>0</th>\n",
       "      <td>1</td>\n",
       "      <td>Avatar</td>\n",
       "      <td>$2,923,706,026</td>\n",
       "      <td>$785,221,649</td>\n",
       "      <td>26.9%</td>\n",
       "      <td>$2,138,484,377</td>\n",
       "      <td>73.1%</td>\n",
       "      <td>2009</td>\n",
       "    </tr>\n",
       "    <tr>\n",
       "      <th>1</th>\n",
       "      <td>2</td>\n",
       "      <td>Avengers: Endgame</td>\n",
       "      <td>$2,799,439,100</td>\n",
       "      <td>$858,373,000</td>\n",
       "      <td>30.7%</td>\n",
       "      <td>$1,941,066,100</td>\n",
       "      <td>69.3%</td>\n",
       "      <td>2019</td>\n",
       "    </tr>\n",
       "    <tr>\n",
       "      <th>2</th>\n",
       "      <td>3</td>\n",
       "      <td>Avatar: The Way of Water</td>\n",
       "      <td>$2,319,768,328</td>\n",
       "      <td>$684,018,775</td>\n",
       "      <td>29.5%</td>\n",
       "      <td>$1,635,749,553</td>\n",
       "      <td>70.5%</td>\n",
       "      <td>2022</td>\n",
       "    </tr>\n",
       "  </tbody>\n",
       "</table>\n",
       "</div>"
      ],
      "text/plain": [
       "   Rank                     Title Worldwide Lifetime Gross  \\\n",
       "0     1                    Avatar           $2,923,706,026   \n",
       "1     2         Avengers: Endgame           $2,799,439,100   \n",
       "2     3  Avatar: The Way of Water           $2,319,768,328   \n",
       "\n",
       "  Domestic Lifetime Gross Domestic % Foreign Lifetime Gross Foreign %  Year  \n",
       "0            $785,221,649      26.9%         $2,138,484,377     73.1%  2009  \n",
       "1            $858,373,000      30.7%         $1,941,066,100     69.3%  2019  \n",
       "2            $684,018,775      29.5%         $1,635,749,553     70.5%  2022  "
      ]
     },
     "execution_count": 31,
     "metadata": {},
     "output_type": "execute_result"
    }
   ],
   "source": [
    "box_df= pd.read_html(io=str(soup.find('table')))[0]\n",
    "box_df.head(3)"
   ]
  },
  {
   "cell_type": "code",
   "execution_count": 39,
   "metadata": {},
   "outputs": [
    {
     "data": {
      "text/html": [
       "<div>\n",
       "<style scoped>\n",
       "    .dataframe tbody tr th:only-of-type {\n",
       "        vertical-align: middle;\n",
       "    }\n",
       "\n",
       "    .dataframe tbody tr th {\n",
       "        vertical-align: top;\n",
       "    }\n",
       "\n",
       "    .dataframe thead th {\n",
       "        text-align: right;\n",
       "    }\n",
       "</style>\n",
       "<table border=\"1\" class=\"dataframe\">\n",
       "  <thead>\n",
       "    <tr style=\"text-align: right;\">\n",
       "      <th></th>\n",
       "      <th>tconst</th>\n",
       "      <th>titleType</th>\n",
       "      <th>primaryTitle</th>\n",
       "      <th>originalTitle</th>\n",
       "      <th>isAdult</th>\n",
       "      <th>startYear</th>\n",
       "      <th>runtimeMinutes</th>\n",
       "      <th>genres</th>\n",
       "      <th>averageRating</th>\n",
       "      <th>numVotes</th>\n",
       "    </tr>\n",
       "  </thead>\n",
       "  <tbody>\n",
       "    <tr>\n",
       "      <th>457307</th>\n",
       "      <td>tt10180694</td>\n",
       "      <td>tvEpisode</td>\n",
       "      <td>Avengers: Endgame</td>\n",
       "      <td>Avengers: Endgame</td>\n",
       "      <td>0</td>\n",
       "      <td>2019</td>\n",
       "      <td>\\N</td>\n",
       "      <td>Talk-Show</td>\n",
       "      <td>8.6</td>\n",
       "      <td>301</td>\n",
       "    </tr>\n",
       "    <tr>\n",
       "      <th>460154</th>\n",
       "      <td>tt10231784</td>\n",
       "      <td>tvEpisode</td>\n",
       "      <td>Avengers: Endgame</td>\n",
       "      <td>Avengers: Endgame</td>\n",
       "      <td>0</td>\n",
       "      <td>2019</td>\n",
       "      <td>\\N</td>\n",
       "      <td>Comedy,Talk-Show</td>\n",
       "      <td>8.3</td>\n",
       "      <td>53</td>\n",
       "    </tr>\n",
       "    <tr>\n",
       "      <th>460568</th>\n",
       "      <td>tt10238690</td>\n",
       "      <td>tvEpisode</td>\n",
       "      <td>Avengers: Endgame</td>\n",
       "      <td>Avengers: Endgame</td>\n",
       "      <td>0</td>\n",
       "      <td>2019</td>\n",
       "      <td>\\N</td>\n",
       "      <td>Action,Adventure,Comedy</td>\n",
       "      <td>8.1</td>\n",
       "      <td>23</td>\n",
       "    </tr>\n",
       "    <tr>\n",
       "      <th>461226</th>\n",
       "      <td>tt10249956</td>\n",
       "      <td>tvEpisode</td>\n",
       "      <td>Avengers: Endgame</td>\n",
       "      <td>Avengers: Endgame</td>\n",
       "      <td>0</td>\n",
       "      <td>2019</td>\n",
       "      <td>\\N</td>\n",
       "      <td>Comedy</td>\n",
       "      <td>8.4</td>\n",
       "      <td>30</td>\n",
       "    </tr>\n",
       "    <tr>\n",
       "      <th>461471</th>\n",
       "      <td>tt10255352</td>\n",
       "      <td>tvEpisode</td>\n",
       "      <td>Avengers: Endgame</td>\n",
       "      <td>Avengers: Endgame</td>\n",
       "      <td>0</td>\n",
       "      <td>2019</td>\n",
       "      <td>\\N</td>\n",
       "      <td>Comedy,Talk-Show</td>\n",
       "      <td>7.9</td>\n",
       "      <td>20</td>\n",
       "    </tr>\n",
       "    <tr>\n",
       "      <th>461508</th>\n",
       "      <td>tt10255990</td>\n",
       "      <td>tvEpisode</td>\n",
       "      <td>Avengers: Endgame</td>\n",
       "      <td>Avengers: Endgame</td>\n",
       "      <td>0</td>\n",
       "      <td>2019</td>\n",
       "      <td>13</td>\n",
       "      <td>Talk-Show</td>\n",
       "      <td>6.9</td>\n",
       "      <td>24</td>\n",
       "    </tr>\n",
       "    <tr>\n",
       "      <th>461609</th>\n",
       "      <td>tt10258872</td>\n",
       "      <td>tvEpisode</td>\n",
       "      <td>Avengers: Endgame</td>\n",
       "      <td>Avengers: Endgame</td>\n",
       "      <td>0</td>\n",
       "      <td>2019</td>\n",
       "      <td>35</td>\n",
       "      <td>Comedy,Talk-Show</td>\n",
       "      <td>7.3</td>\n",
       "      <td>48</td>\n",
       "    </tr>\n",
       "    <tr>\n",
       "      <th>461637</th>\n",
       "      <td>tt10259724</td>\n",
       "      <td>tvEpisode</td>\n",
       "      <td>Avengers: Endgame</td>\n",
       "      <td>Avengers: Endgame</td>\n",
       "      <td>0</td>\n",
       "      <td>2019</td>\n",
       "      <td>\\N</td>\n",
       "      <td>Comedy</td>\n",
       "      <td>8.8</td>\n",
       "      <td>7</td>\n",
       "    </tr>\n",
       "    <tr>\n",
       "      <th>489033</th>\n",
       "      <td>tt10761046</td>\n",
       "      <td>tvEpisode</td>\n",
       "      <td>Avengers: Endgame</td>\n",
       "      <td>Avengers: Endgame</td>\n",
       "      <td>0</td>\n",
       "      <td>2019</td>\n",
       "      <td>\\N</td>\n",
       "      <td>Comedy</td>\n",
       "      <td>8.0</td>\n",
       "      <td>72</td>\n",
       "    </tr>\n",
       "    <tr>\n",
       "      <th>1030039</th>\n",
       "      <td>tt4154796</td>\n",
       "      <td>movie</td>\n",
       "      <td>Avengers: Endgame</td>\n",
       "      <td>Avengers: Endgame</td>\n",
       "      <td>0</td>\n",
       "      <td>2019</td>\n",
       "      <td>181</td>\n",
       "      <td>Action,Adventure,Drama</td>\n",
       "      <td>8.4</td>\n",
       "      <td>1173968</td>\n",
       "    </tr>\n",
       "  </tbody>\n",
       "</table>\n",
       "</div>"
      ],
      "text/plain": [
       "             tconst  titleType       primaryTitle      originalTitle isAdult  \\\n",
       "457307   tt10180694  tvEpisode  Avengers: Endgame  Avengers: Endgame       0   \n",
       "460154   tt10231784  tvEpisode  Avengers: Endgame  Avengers: Endgame       0   \n",
       "460568   tt10238690  tvEpisode  Avengers: Endgame  Avengers: Endgame       0   \n",
       "461226   tt10249956  tvEpisode  Avengers: Endgame  Avengers: Endgame       0   \n",
       "461471   tt10255352  tvEpisode  Avengers: Endgame  Avengers: Endgame       0   \n",
       "461508   tt10255990  tvEpisode  Avengers: Endgame  Avengers: Endgame       0   \n",
       "461609   tt10258872  tvEpisode  Avengers: Endgame  Avengers: Endgame       0   \n",
       "461637   tt10259724  tvEpisode  Avengers: Endgame  Avengers: Endgame       0   \n",
       "489033   tt10761046  tvEpisode  Avengers: Endgame  Avengers: Endgame       0   \n",
       "1030039   tt4154796      movie  Avengers: Endgame  Avengers: Endgame       0   \n",
       "\n",
       "        startYear runtimeMinutes                   genres  averageRating  \\\n",
       "457307       2019             \\N                Talk-Show            8.6   \n",
       "460154       2019             \\N         Comedy,Talk-Show            8.3   \n",
       "460568       2019             \\N  Action,Adventure,Comedy            8.1   \n",
       "461226       2019             \\N                   Comedy            8.4   \n",
       "461471       2019             \\N         Comedy,Talk-Show            7.9   \n",
       "461508       2019             13                Talk-Show            6.9   \n",
       "461609       2019             35         Comedy,Talk-Show            7.3   \n",
       "461637       2019             \\N                   Comedy            8.8   \n",
       "489033       2019             \\N                   Comedy            8.0   \n",
       "1030039      2019            181   Action,Adventure,Drama            8.4   \n",
       "\n",
       "         numVotes  \n",
       "457307        301  \n",
       "460154         53  \n",
       "460568         23  \n",
       "461226         30  \n",
       "461471         20  \n",
       "461508         24  \n",
       "461609         48  \n",
       "461637          7  \n",
       "489033         72  \n",
       "1030039   1173968  "
      ]
     },
     "execution_count": 39,
     "metadata": {},
     "output_type": "execute_result"
    }
   ],
   "source": [
    "df[df['primaryTitle'] == 'Avengers: Endgame'] "
   ]
  },
  {
   "cell_type": "markdown",
   "metadata": {},
   "source": [
    "## Step 2: Data Processing"
   ]
  },
  {
   "cell_type": "markdown",
   "metadata": {},
   "source": [
    "Merge our two datasets into the same datafram"
   ]
  },
  {
   "cell_type": "code",
   "execution_count": 32,
   "metadata": {},
   "outputs": [],
   "source": [
    "# when u remove and clean values\n",
    "df = pd.merge(left=title_df, right=ratings_df, on='tconst', how='inner')"
   ]
  },
  {
   "cell_type": "code",
   "execution_count": 36,
   "metadata": {},
   "outputs": [
    {
     "data": {
      "text/html": [
       "<div>\n",
       "<style scoped>\n",
       "    .dataframe tbody tr th:only-of-type {\n",
       "        vertical-align: middle;\n",
       "    }\n",
       "\n",
       "    .dataframe tbody tr th {\n",
       "        vertical-align: top;\n",
       "    }\n",
       "\n",
       "    .dataframe thead th {\n",
       "        text-align: right;\n",
       "    }\n",
       "</style>\n",
       "<table border=\"1\" class=\"dataframe\">\n",
       "  <thead>\n",
       "    <tr style=\"text-align: right;\">\n",
       "      <th></th>\n",
       "      <th>tconst</th>\n",
       "      <th>titleType</th>\n",
       "      <th>primaryTitle</th>\n",
       "      <th>originalTitle</th>\n",
       "      <th>isAdult</th>\n",
       "      <th>startYear</th>\n",
       "      <th>runtimeMinutes</th>\n",
       "      <th>genres</th>\n",
       "      <th>averageRating</th>\n",
       "      <th>numVotes</th>\n",
       "    </tr>\n",
       "  </thead>\n",
       "  <tbody>\n",
       "    <tr>\n",
       "      <th>8</th>\n",
       "      <td>tt0000009</td>\n",
       "      <td>movie</td>\n",
       "      <td>Miss Jerry</td>\n",
       "      <td>Miss Jerry</td>\n",
       "      <td>False</td>\n",
       "      <td>1894</td>\n",
       "      <td>45</td>\n",
       "      <td>Romance</td>\n",
       "      <td>5.3</td>\n",
       "      <td>204</td>\n",
       "    </tr>\n",
       "    <tr>\n",
       "      <th>144</th>\n",
       "      <td>tt0000147</td>\n",
       "      <td>movie</td>\n",
       "      <td>The Corbett-Fitzsimmons Fight</td>\n",
       "      <td>The Corbett-Fitzsimmons Fight</td>\n",
       "      <td>False</td>\n",
       "      <td>1897</td>\n",
       "      <td>100</td>\n",
       "      <td>Documentary,News,Sport</td>\n",
       "      <td>5.3</td>\n",
       "      <td>469</td>\n",
       "    </tr>\n",
       "    <tr>\n",
       "      <th>326</th>\n",
       "      <td>tt0000502</td>\n",
       "      <td>movie</td>\n",
       "      <td>Bohemios</td>\n",
       "      <td>Bohemios</td>\n",
       "      <td>False</td>\n",
       "      <td>1905</td>\n",
       "      <td>100</td>\n",
       "      <td>\\N</td>\n",
       "      <td>4.1</td>\n",
       "      <td>15</td>\n",
       "    </tr>\n",
       "    <tr>\n",
       "      <th>358</th>\n",
       "      <td>tt0000574</td>\n",
       "      <td>movie</td>\n",
       "      <td>The Story of the Kelly Gang</td>\n",
       "      <td>The Story of the Kelly Gang</td>\n",
       "      <td>False</td>\n",
       "      <td>1906</td>\n",
       "      <td>70</td>\n",
       "      <td>Action,Adventure,Biography</td>\n",
       "      <td>6.0</td>\n",
       "      <td>826</td>\n",
       "    </tr>\n",
       "    <tr>\n",
       "      <th>366</th>\n",
       "      <td>tt0000591</td>\n",
       "      <td>movie</td>\n",
       "      <td>The Prodigal Son</td>\n",
       "      <td>L'enfant prodigue</td>\n",
       "      <td>False</td>\n",
       "      <td>1907</td>\n",
       "      <td>90</td>\n",
       "      <td>Drama</td>\n",
       "      <td>4.4</td>\n",
       "      <td>20</td>\n",
       "    </tr>\n",
       "  </tbody>\n",
       "</table>\n",
       "</div>"
      ],
      "text/plain": [
       "        tconst titleType                   primaryTitle  \\\n",
       "8    tt0000009     movie                     Miss Jerry   \n",
       "144  tt0000147     movie  The Corbett-Fitzsimmons Fight   \n",
       "326  tt0000502     movie                       Bohemios   \n",
       "358  tt0000574     movie    The Story of the Kelly Gang   \n",
       "366  tt0000591     movie               The Prodigal Son   \n",
       "\n",
       "                     originalTitle  isAdult startYear runtimeMinutes  \\\n",
       "8                       Miss Jerry    False      1894             45   \n",
       "144  The Corbett-Fitzsimmons Fight    False      1897            100   \n",
       "326                       Bohemios    False      1905            100   \n",
       "358    The Story of the Kelly Gang    False      1906             70   \n",
       "366              L'enfant prodigue    False      1907             90   \n",
       "\n",
       "                         genres  averageRating  numVotes  \n",
       "8                       Romance            5.3       204  \n",
       "144      Documentary,News,Sport            5.3       469  \n",
       "326                          \\N            4.1        15  \n",
       "358  Action,Adventure,Biography            6.0       826  \n",
       "366                       Drama            4.4        20  "
      ]
     },
     "execution_count": 36,
     "metadata": {},
     "output_type": "execute_result"
    }
   ],
   "source": [
    "df.head(5)"
   ]
  },
  {
   "cell_type": "code",
   "execution_count": 33,
   "metadata": {},
   "outputs": [],
   "source": [
    "df.drop(labels=['endYear'],axis=1, inplace=True)"
   ]
  },
  {
   "cell_type": "markdown",
   "metadata": {},
   "source": [
    "Keep only the titles named movies"
   ]
  },
  {
   "cell_type": "markdown",
   "metadata": {},
   "source": [
    "We need to parse certain columns to integers"
   ]
  },
  {
   "cell_type": "code",
   "execution_count": 67,
   "metadata": {},
   "outputs": [
    {
     "data": {
      "text/plain": [
       "tconst             object\n",
       "titleType          object\n",
       "primaryTitle       object\n",
       "originalTitle      object\n",
       "isAdult              bool\n",
       "startYear           int64\n",
       "runtimeMinutes     object\n",
       "genres             object\n",
       "averageRating     float64\n",
       "numVotes            int64\n",
       "dtype: object"
      ]
     },
     "execution_count": 67,
     "metadata": {},
     "output_type": "execute_result"
    }
   ],
   "source": [
    "df.dtypes"
   ]
  },
  {
   "cell_type": "markdown",
   "metadata": {},
   "source": [
    "Here we are only looking at movies so we can drop all other forms of media (short films, shows, ...). We are analyzing these movies over time thus, we can drop any movies without a release date ('startYear'). Then, we need to convert the release dates from strings to integers so we can plot them."
   ]
  },
  {
   "cell_type": "code",
   "execution_count": 68,
   "metadata": {},
   "outputs": [],
   "source": [
    "# keep only movies\n",
    "df = df[df['titleType'] == 'movie']\n",
    "# drop movies without a release date\n",
    "df = df[df['startYear'] != '\\\\N']\n",
    "# convert release date from strings to integers\n",
    "df['startYear'] = df['startYear'].apply(int)"
   ]
  },
  {
   "cell_type": "markdown",
   "metadata": {},
   "source": [
    "Something about bias here..."
   ]
  },
  {
   "cell_type": "code",
   "execution_count": 69,
   "metadata": {},
   "outputs": [],
   "source": [
    "# 1 if isAdult else, if it's any other value (0 or invalid)\n",
    "# TODO comment on how this will introduce bias\n",
    "function = lambda x: True if x == '1' else False\n",
    "df['isAdult'] = df['isAdult'].apply(function)"
   ]
  },
  {
   "cell_type": "code",
   "execution_count": 70,
   "metadata": {},
   "outputs": [
    {
     "data": {
      "text/html": [
       "<div>\n",
       "<style scoped>\n",
       "    .dataframe tbody tr th:only-of-type {\n",
       "        vertical-align: middle;\n",
       "    }\n",
       "\n",
       "    .dataframe tbody tr th {\n",
       "        vertical-align: top;\n",
       "    }\n",
       "\n",
       "    .dataframe thead th {\n",
       "        text-align: right;\n",
       "    }\n",
       "</style>\n",
       "<table border=\"1\" class=\"dataframe\">\n",
       "  <thead>\n",
       "    <tr style=\"text-align: right;\">\n",
       "      <th></th>\n",
       "      <th>tconst</th>\n",
       "      <th>titleType</th>\n",
       "      <th>primaryTitle</th>\n",
       "      <th>originalTitle</th>\n",
       "      <th>isAdult</th>\n",
       "      <th>startYear</th>\n",
       "      <th>runtimeMinutes</th>\n",
       "      <th>genres</th>\n",
       "      <th>averageRating</th>\n",
       "      <th>numVotes</th>\n",
       "    </tr>\n",
       "  </thead>\n",
       "  <tbody>\n",
       "    <tr>\n",
       "      <th>8</th>\n",
       "      <td>tt0000009</td>\n",
       "      <td>movie</td>\n",
       "      <td>Miss Jerry</td>\n",
       "      <td>Miss Jerry</td>\n",
       "      <td>False</td>\n",
       "      <td>1894</td>\n",
       "      <td>45</td>\n",
       "      <td>Romance</td>\n",
       "      <td>5.3</td>\n",
       "      <td>204</td>\n",
       "    </tr>\n",
       "    <tr>\n",
       "      <th>144</th>\n",
       "      <td>tt0000147</td>\n",
       "      <td>movie</td>\n",
       "      <td>The Corbett-Fitzsimmons Fight</td>\n",
       "      <td>The Corbett-Fitzsimmons Fight</td>\n",
       "      <td>False</td>\n",
       "      <td>1897</td>\n",
       "      <td>100</td>\n",
       "      <td>Documentary,News,Sport</td>\n",
       "      <td>5.3</td>\n",
       "      <td>469</td>\n",
       "    </tr>\n",
       "    <tr>\n",
       "      <th>326</th>\n",
       "      <td>tt0000502</td>\n",
       "      <td>movie</td>\n",
       "      <td>Bohemios</td>\n",
       "      <td>Bohemios</td>\n",
       "      <td>False</td>\n",
       "      <td>1905</td>\n",
       "      <td>100</td>\n",
       "      <td>\\N</td>\n",
       "      <td>4.1</td>\n",
       "      <td>15</td>\n",
       "    </tr>\n",
       "    <tr>\n",
       "      <th>358</th>\n",
       "      <td>tt0000574</td>\n",
       "      <td>movie</td>\n",
       "      <td>The Story of the Kelly Gang</td>\n",
       "      <td>The Story of the Kelly Gang</td>\n",
       "      <td>False</td>\n",
       "      <td>1906</td>\n",
       "      <td>70</td>\n",
       "      <td>Action,Adventure,Biography</td>\n",
       "      <td>6.0</td>\n",
       "      <td>826</td>\n",
       "    </tr>\n",
       "    <tr>\n",
       "      <th>366</th>\n",
       "      <td>tt0000591</td>\n",
       "      <td>movie</td>\n",
       "      <td>The Prodigal Son</td>\n",
       "      <td>L'enfant prodigue</td>\n",
       "      <td>False</td>\n",
       "      <td>1907</td>\n",
       "      <td>90</td>\n",
       "      <td>Drama</td>\n",
       "      <td>4.4</td>\n",
       "      <td>20</td>\n",
       "    </tr>\n",
       "  </tbody>\n",
       "</table>\n",
       "</div>"
      ],
      "text/plain": [
       "        tconst titleType                   primaryTitle  \\\n",
       "8    tt0000009     movie                     Miss Jerry   \n",
       "144  tt0000147     movie  The Corbett-Fitzsimmons Fight   \n",
       "326  tt0000502     movie                       Bohemios   \n",
       "358  tt0000574     movie    The Story of the Kelly Gang   \n",
       "366  tt0000591     movie               The Prodigal Son   \n",
       "\n",
       "                     originalTitle  isAdult  startYear runtimeMinutes  \\\n",
       "8                       Miss Jerry    False       1894             45   \n",
       "144  The Corbett-Fitzsimmons Fight    False       1897            100   \n",
       "326                       Bohemios    False       1905            100   \n",
       "358    The Story of the Kelly Gang    False       1906             70   \n",
       "366              L'enfant prodigue    False       1907             90   \n",
       "\n",
       "                         genres  averageRating  numVotes  \n",
       "8                       Romance            5.3       204  \n",
       "144      Documentary,News,Sport            5.3       469  \n",
       "326                          \\N            4.1        15  \n",
       "358  Action,Adventure,Biography            6.0       826  \n",
       "366                       Drama            4.4        20  "
      ]
     },
     "execution_count": 70,
     "metadata": {},
     "output_type": "execute_result"
    }
   ],
   "source": [
    "df.head(5)"
   ]
  },
  {
   "cell_type": "markdown",
   "metadata": {},
   "source": [
    "## Step 3: Exploratory Analysis and Data Vizualization"
   ]
  },
  {
   "cell_type": "code",
   "execution_count": 71,
   "metadata": {},
   "outputs": [],
   "source": [
    "# make nice graphs and get some info about the data\n",
    "# budget vs ratings\n",
    "# box office vs ratings"
   ]
  },
  {
   "cell_type": "markdown",
   "metadata": {},
   "source": []
  },
  {
   "cell_type": "markdown",
   "metadata": {},
   "source": [
    "## Analysis, Hypothesis Testing, and Machine Learning"
   ]
  },
  {
   "cell_type": "code",
   "execution_count": 73,
   "metadata": {},
   "outputs": [],
   "source": [
    "# more in depth, test hypotheses coming from the graphs"
   ]
  },
  {
   "cell_type": "markdown",
   "metadata": {},
   "source": [
    "## Insight and Policy Decision"
   ]
  },
  {
   "cell_type": "code",
   "execution_count": null,
   "metadata": {},
   "outputs": [],
   "source": []
  },
  {
   "cell_type": "markdown",
   "metadata": {},
   "source": [
    "## Conclusion"
   ]
  },
  {
   "cell_type": "markdown",
   "metadata": {},
   "source": []
  }
 ],
 "metadata": {
  "kernelspec": {
   "display_name": "Python 3",
   "language": "python",
   "name": "python3"
  },
  "language_info": {
   "codemirror_mode": {
    "name": "ipython",
    "version": 3
   },
   "file_extension": ".py",
   "mimetype": "text/x-python",
   "name": "python",
   "nbconvert_exporter": "python",
   "pygments_lexer": "ipython3",
   "version": "3.9.2"
  }
 },
 "nbformat": 4,
 "nbformat_minor": 2
}
