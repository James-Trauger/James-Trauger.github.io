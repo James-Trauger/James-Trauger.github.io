{
 "cells": [
  {
   "cell_type": "markdown",
   "metadata": {},
   "source": [
    "# MOVIES MOVIES MOVIES !!!"
   ]
  },
  {
   "cell_type": "code",
   "execution_count": 12,
   "metadata": {},
   "outputs": [],
   "source": [
    "import numpy as np\n",
    "import pandas as pd\n",
    "import _sqlite3 as sql"
   ]
  },
  {
   "cell_type": "markdown",
   "metadata": {},
   "source": [
    "## Step 1: Data Collection"
   ]
  },
  {
   "cell_type": "code",
   "execution_count": 8,
   "metadata": {},
   "outputs": [],
   "source": [
    "# downloading the data\n",
    "import requests\n",
    "import tarfile\n",
    "\n",
    "url= 'https://datasets.imdbws.com/title.basics.tsv.gz';\n",
    "url2= 'https://datasets.imdbws.com/title.ratings.tsv.gz';\n",
    "\n",
    "titledata= requests.get(url);\n",
    "ratingdata= requests.get(url2);\n",
    "\n",
    "title_filename= 'title_data.tsv.gz';\n",
    "ratings_filename= 'ratings.tsv.gz';\n",
    "\n",
    "open(title_filename, 'wb').write(titledata.content);\n",
    "open(ratings_filename, 'wb').write(ratingdata.content);"
   ]
  },
  {
   "cell_type": "code",
   "execution_count": 14,
   "metadata": {},
   "outputs": [
    {
     "name": "stderr",
     "output_type": "stream",
     "text": [
      "<ipython-input-14-6750aaccdbd5>:1: DtypeWarning: Columns (4) have mixed types. Specify dtype option on import or set low_memory=False.\n",
      "  title_df= pd.read_csv(title_filename, sep=\"\\t\", compression=\"gzip\");\n"
     ]
    }
   ],
   "source": [
    "title_df= pd.read_csv(title_filename, sep=\"\\t\", compression=\"gzip\");\n",
    "ratings_df= pd.read_csv(ratings_filename, sep=\"\\t\", compression=\"gzip\");\n",
    "#title_tar= tarfile.open(title_filename, \"r:gz\")\n",
    "# tar.getmembers()\n",
    "\n",
    "#print(dir(titledata))\n",
    "#tar = tarfile.open(titledata.content, \"r:gz\")\n",
    "\n",
    "#'''\n",
    "#for member in tar.getmembers():\n",
    "#    f = tar.extractfile(member)\n",
    "#    if f:\n",
    "#        content = f.read()\n",
    "#        Data = np.loadtxt(content)\n",
    "#'''"
   ]
  },
  {
   "cell_type": "code",
   "execution_count": 15,
   "metadata": {},
   "outputs": [
    {
     "data": {
      "text/plain": [
       "<bound method NDFrame.head of             tconst  titleType               primaryTitle  \\\n",
       "0        tt0000001      short                 Carmencita   \n",
       "1        tt0000002      short     Le clown et ses chiens   \n",
       "2        tt0000003      short             Pauvre Pierrot   \n",
       "3        tt0000004      short                Un bon bock   \n",
       "4        tt0000005      short           Blacksmith Scene   \n",
       "...            ...        ...                        ...   \n",
       "9842459  tt9916848  tvEpisode              Episode #3.17   \n",
       "9842460  tt9916850  tvEpisode              Episode #3.19   \n",
       "9842461  tt9916852  tvEpisode              Episode #3.20   \n",
       "9842462  tt9916856      short                   The Wind   \n",
       "9842463  tt9916880  tvEpisode  Horrid Henry Knows It All   \n",
       "\n",
       "                     originalTitle isAdult startYear endYear runtimeMinutes  \\\n",
       "0                       Carmencita       0      1894      \\N              1   \n",
       "1           Le clown et ses chiens       0      1892      \\N              5   \n",
       "2                   Pauvre Pierrot       0      1892      \\N              4   \n",
       "3                      Un bon bock       0      1892      \\N             12   \n",
       "4                 Blacksmith Scene       0      1893      \\N              1   \n",
       "...                            ...     ...       ...     ...            ...   \n",
       "9842459              Episode #3.17       0      2010      \\N             \\N   \n",
       "9842460              Episode #3.19       0      2010      \\N             \\N   \n",
       "9842461              Episode #3.20       0      2010      \\N             \\N   \n",
       "9842462                   The Wind       0      2015      \\N             27   \n",
       "9842463  Horrid Henry Knows It All       0      2014      \\N             10   \n",
       "\n",
       "                             genres  \n",
       "0                 Documentary,Short  \n",
       "1                   Animation,Short  \n",
       "2          Animation,Comedy,Romance  \n",
       "3                   Animation,Short  \n",
       "4                      Comedy,Short  \n",
       "...                             ...  \n",
       "9842459         Action,Drama,Family  \n",
       "9842460         Action,Drama,Family  \n",
       "9842461         Action,Drama,Family  \n",
       "9842462                       Short  \n",
       "9842463  Adventure,Animation,Comedy  \n",
       "\n",
       "[9842464 rows x 9 columns]>"
      ]
     },
     "execution_count": 15,
     "metadata": {},
     "output_type": "execute_result"
    }
   ],
   "source": [
    "title_df.head"
   ]
  },
  {
   "cell_type": "markdown",
   "metadata": {},
   "source": [
    "## Step 2: Data Processing"
   ]
  },
  {
   "cell_type": "code",
   "execution_count": null,
   "metadata": {},
   "outputs": [],
   "source": [
    "# when u remove and clean values"
   ]
  },
  {
   "cell_type": "markdown",
   "metadata": {},
   "source": [
    "## Step 3: Exploratory Analysis and Data Vizualization"
   ]
  },
  {
   "cell_type": "code",
   "execution_count": null,
   "metadata": {},
   "outputs": [],
   "source": [
    "# make nice graphs and get some info about the data\n",
    "# budget vs ratings\n",
    "# box office vs ratings"
   ]
  },
  {
   "cell_type": "markdown",
   "metadata": {},
   "source": [
    "## Analysis, Hypothesis Testing, and Machine Learning"
   ]
  },
  {
   "cell_type": "code",
   "execution_count": null,
   "metadata": {},
   "outputs": [],
   "source": [
    "# more in depth, test hypotheses coming from the graphs"
   ]
  },
  {
   "cell_type": "markdown",
   "metadata": {},
   "source": [
    "## Insight and Policy Decision"
   ]
  },
  {
   "cell_type": "code",
   "execution_count": null,
   "metadata": {},
   "outputs": [],
   "source": []
  },
  {
   "cell_type": "markdown",
   "metadata": {},
   "source": [
    "## Conclusion"
   ]
  },
  {
   "cell_type": "markdown",
   "metadata": {},
   "source": []
  }
 ],
 "metadata": {
  "kernelspec": {
   "display_name": "Python 3",
   "language": "python",
   "name": "python3"
  },
  "language_info": {
   "codemirror_mode": {
    "name": "ipython",
    "version": 3
   },
   "file_extension": ".py",
   "mimetype": "text/x-python",
   "name": "python",
   "nbconvert_exporter": "python",
   "pygments_lexer": "ipython3",
   "version": "3.9.2"
  }
 },
 "nbformat": 4,
 "nbformat_minor": 2
}
