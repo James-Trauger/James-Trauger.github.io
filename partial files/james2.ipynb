{
 "cells": [
  {
   "cell_type": "markdown",
   "metadata": {},
   "source": [
    "# MOVIES MOVIES MOVIES !!!"
   ]
  },
  {
   "cell_type": "code",
   "execution_count": 7,
   "metadata": {},
   "outputs": [
    {
     "data": {
      "text/plain": [
       "'en_US.UTF-8'"
      ]
     },
     "execution_count": 7,
     "metadata": {},
     "output_type": "execute_result"
    }
   ],
   "source": [
    "import requests\n",
    "import tarfile\n",
    "import numpy as np\n",
    "import pandas as pd\n",
    "import matplotlib.pyplot as plt\n",
    "from bs4 import BeautifulSoup\n",
    "from sklearn.linear_model import LinearRegression\n",
    "from statsmodels.formula import api as stats\n",
    "from sklearn.preprocessing import PolynomialFeatures\n",
    "import locale\n",
    "locale.setlocale(locale.LC_ALL, 'en_US.UTF-8');"
   ]
  },
  {
   "cell_type": "markdown",
   "metadata": {},
   "source": [
    "## Step 1: Data Collection"
   ]
  },
  {
   "cell_type": "code",
   "execution_count": 10,
   "metadata": {},
   "outputs": [],
   "source": [
    "# downloading the data. These are datasets provided for non-commercial use\n",
    "url= 'https://datasets.imdbws.com/title.basics.tsv.gz';\n",
    "url2= 'https://datasets.imdbws.com/title.ratings.tsv.gz';\n",
    "\n",
    "titledata= requests.get(url);\n",
    "ratingdata= requests.get(url2);\n",
    "\n",
    "title_filename= 'title_data.tsv.gz';\n",
    "ratings_filename= 'ratings.tsv.gz';\n",
    "\n",
    "# write the files to our directory\n",
    "open(title_filename, 'wb').write(titledata.content);\n",
    "open(ratings_filename, 'wb').write(ratingdata.content);"
   ]
  },
  {
   "cell_type": "code",
   "execution_count": 12,
   "metadata": {},
   "outputs": [
    {
     "name": "stdout",
     "output_type": "stream",
     "text": [
      "      tconst titleType            primaryTitle           originalTitle  \\\n",
      "0  tt0000001     short              Carmencita              Carmencita   \n",
      "1  tt0000002     short  Le clown et ses chiens  Le clown et ses chiens   \n",
      "2  tt0000003     short          Pauvre Pierrot          Pauvre Pierrot   \n",
      "3  tt0000004     short             Un bon bock             Un bon bock   \n",
      "4  tt0000005     short        Blacksmith Scene        Blacksmith Scene   \n",
      "\n",
      "  isAdult startYear endYear runtimeMinutes                    genres  \n",
      "0       0      1894      \\N              1         Documentary,Short  \n",
      "1       0      1892      \\N              5           Animation,Short  \n",
      "2       0      1892      \\N              4  Animation,Comedy,Romance  \n",
      "3       0      1892      \\N             12           Animation,Short  \n",
      "4       0      1893      \\N              1              Comedy,Short         tconst  averageRating  numVotes\n",
      "0  tt0000001            5.7      1971\n",
      "1  tt0000002            5.8       263\n",
      "2  tt0000003            6.5      1817\n",
      "3  tt0000004            5.6       178\n",
      "4  tt0000005            6.2      2613\n"
     ]
    }
   ],
   "source": [
    "# reading the data into panda dataframes\n",
    "title_df= pd.read_csv('title_data.tsv.gz', sep=\"\\t\", dtype={'isAdult': str});\n",
    "ratings_df= pd.read_csv('ratings.tsv.gz', sep=\"\\t\");\n",
    "print(title_df.head(5), ratings_df.head(5))"
   ]
  },
  {
   "cell_type": "markdown",
   "metadata": {},
   "source": [
    "## Step 2: Data Processing"
   ]
  },
  {
   "cell_type": "markdown",
   "metadata": {},
   "source": [
    "Merge our two datasets into the same datafram"
   ]
  },
  {
   "cell_type": "code",
   "execution_count": 13,
   "metadata": {},
   "outputs": [],
   "source": [
    "# when u remove and clean values\n",
    "df = pd.merge(left=title_df, right=ratings_df, on='tconst', how='inner')"
   ]
  },
  {
   "cell_type": "code",
   "execution_count": 14,
   "metadata": {},
   "outputs": [],
   "source": [
    "df.drop(labels=['endYear'],axis=1, inplace=True)"
   ]
  },
  {
   "cell_type": "code",
   "execution_count": 15,
   "metadata": {},
   "outputs": [
    {
     "data": {
      "text/html": [
       "<div>\n",
       "<style scoped>\n",
       "    .dataframe tbody tr th:only-of-type {\n",
       "        vertical-align: middle;\n",
       "    }\n",
       "\n",
       "    .dataframe tbody tr th {\n",
       "        vertical-align: top;\n",
       "    }\n",
       "\n",
       "    .dataframe thead th {\n",
       "        text-align: right;\n",
       "    }\n",
       "</style>\n",
       "<table border=\"1\" class=\"dataframe\">\n",
       "  <thead>\n",
       "    <tr style=\"text-align: right;\">\n",
       "      <th></th>\n",
       "      <th>tconst</th>\n",
       "      <th>titleType</th>\n",
       "      <th>primaryTitle</th>\n",
       "      <th>originalTitle</th>\n",
       "      <th>isAdult</th>\n",
       "      <th>startYear</th>\n",
       "      <th>runtimeMinutes</th>\n",
       "      <th>genres</th>\n",
       "      <th>averageRating</th>\n",
       "      <th>numVotes</th>\n",
       "    </tr>\n",
       "  </thead>\n",
       "  <tbody>\n",
       "    <tr>\n",
       "      <th>0</th>\n",
       "      <td>tt0000001</td>\n",
       "      <td>short</td>\n",
       "      <td>Carmencita</td>\n",
       "      <td>Carmencita</td>\n",
       "      <td>0</td>\n",
       "      <td>1894</td>\n",
       "      <td>1</td>\n",
       "      <td>Documentary,Short</td>\n",
       "      <td>5.7</td>\n",
       "      <td>1971</td>\n",
       "    </tr>\n",
       "    <tr>\n",
       "      <th>1</th>\n",
       "      <td>tt0000002</td>\n",
       "      <td>short</td>\n",
       "      <td>Le clown et ses chiens</td>\n",
       "      <td>Le clown et ses chiens</td>\n",
       "      <td>0</td>\n",
       "      <td>1892</td>\n",
       "      <td>5</td>\n",
       "      <td>Animation,Short</td>\n",
       "      <td>5.8</td>\n",
       "      <td>263</td>\n",
       "    </tr>\n",
       "    <tr>\n",
       "      <th>2</th>\n",
       "      <td>tt0000003</td>\n",
       "      <td>short</td>\n",
       "      <td>Pauvre Pierrot</td>\n",
       "      <td>Pauvre Pierrot</td>\n",
       "      <td>0</td>\n",
       "      <td>1892</td>\n",
       "      <td>4</td>\n",
       "      <td>Animation,Comedy,Romance</td>\n",
       "      <td>6.5</td>\n",
       "      <td>1817</td>\n",
       "    </tr>\n",
       "    <tr>\n",
       "      <th>3</th>\n",
       "      <td>tt0000004</td>\n",
       "      <td>short</td>\n",
       "      <td>Un bon bock</td>\n",
       "      <td>Un bon bock</td>\n",
       "      <td>0</td>\n",
       "      <td>1892</td>\n",
       "      <td>12</td>\n",
       "      <td>Animation,Short</td>\n",
       "      <td>5.6</td>\n",
       "      <td>178</td>\n",
       "    </tr>\n",
       "    <tr>\n",
       "      <th>4</th>\n",
       "      <td>tt0000005</td>\n",
       "      <td>short</td>\n",
       "      <td>Blacksmith Scene</td>\n",
       "      <td>Blacksmith Scene</td>\n",
       "      <td>0</td>\n",
       "      <td>1893</td>\n",
       "      <td>1</td>\n",
       "      <td>Comedy,Short</td>\n",
       "      <td>6.2</td>\n",
       "      <td>2613</td>\n",
       "    </tr>\n",
       "  </tbody>\n",
       "</table>\n",
       "</div>"
      ],
      "text/plain": [
       "      tconst titleType            primaryTitle           originalTitle  \\\n",
       "0  tt0000001     short              Carmencita              Carmencita   \n",
       "1  tt0000002     short  Le clown et ses chiens  Le clown et ses chiens   \n",
       "2  tt0000003     short          Pauvre Pierrot          Pauvre Pierrot   \n",
       "3  tt0000004     short             Un bon bock             Un bon bock   \n",
       "4  tt0000005     short        Blacksmith Scene        Blacksmith Scene   \n",
       "\n",
       "  isAdult startYear runtimeMinutes                    genres  averageRating  \\\n",
       "0       0      1894              1         Documentary,Short            5.7   \n",
       "1       0      1892              5           Animation,Short            5.8   \n",
       "2       0      1892              4  Animation,Comedy,Romance            6.5   \n",
       "3       0      1892             12           Animation,Short            5.6   \n",
       "4       0      1893              1              Comedy,Short            6.2   \n",
       "\n",
       "   numVotes  \n",
       "0      1971  \n",
       "1       263  \n",
       "2      1817  \n",
       "3       178  \n",
       "4      2613  "
      ]
     },
     "execution_count": 15,
     "metadata": {},
     "output_type": "execute_result"
    }
   ],
   "source": [
    "df.head(5)"
   ]
  },
  {
   "cell_type": "markdown",
   "metadata": {},
   "source": [
    "Keep only the titles named movies"
   ]
  },
  {
   "cell_type": "markdown",
   "metadata": {},
   "source": [
    "We need to parse certain columns to integers"
   ]
  },
  {
   "cell_type": "code",
   "execution_count": 16,
   "metadata": {},
   "outputs": [
    {
     "data": {
      "text/plain": [
       "tconst             object\n",
       "titleType          object\n",
       "primaryTitle       object\n",
       "originalTitle      object\n",
       "isAdult            object\n",
       "startYear          object\n",
       "runtimeMinutes     object\n",
       "genres             object\n",
       "averageRating     float64\n",
       "numVotes            int64\n",
       "dtype: object"
      ]
     },
     "execution_count": 16,
     "metadata": {},
     "output_type": "execute_result"
    }
   ],
   "source": [
    "df.dtypes"
   ]
  },
  {
   "cell_type": "markdown",
   "metadata": {},
   "source": [
    "Here we are only looking at movies so we can drop all other forms of media (short films, shows, ...). We are analyzing these movies over time thus, we can drop any movies without a release date ('startYear'). Then, we need to convert the release dates from strings to integers so we can plot them."
   ]
  },
  {
   "cell_type": "code",
   "execution_count": 17,
   "metadata": {},
   "outputs": [],
   "source": [
    "# keep only movies\n",
    "df = df[df['titleType'] == 'movie']\n",
    "# drop movies without a release date\n",
    "df = df[df['startYear'] != '\\\\N']\n",
    "# convert release date from strings to integers\n",
    "df['startYear'] = df['startYear'].apply(int)"
   ]
  },
  {
   "cell_type": "code",
   "execution_count": 18,
   "metadata": {},
   "outputs": [],
   "source": [
    "to_number = lambda x: float(x) if x.isdigit() else np.nan\n",
    "df['runtimeMinutes'] = df['runtimeMinutes'].apply(to_number)"
   ]
  },
  {
   "cell_type": "code",
   "execution_count": 19,
   "metadata": {},
   "outputs": [
    {
     "data": {
      "text/html": [
       "<div>\n",
       "<style scoped>\n",
       "    .dataframe tbody tr th:only-of-type {\n",
       "        vertical-align: middle;\n",
       "    }\n",
       "\n",
       "    .dataframe tbody tr th {\n",
       "        vertical-align: top;\n",
       "    }\n",
       "\n",
       "    .dataframe thead th {\n",
       "        text-align: right;\n",
       "    }\n",
       "</style>\n",
       "<table border=\"1\" class=\"dataframe\">\n",
       "  <thead>\n",
       "    <tr style=\"text-align: right;\">\n",
       "      <th></th>\n",
       "      <th>Rank</th>\n",
       "      <th>Title</th>\n",
       "      <th>Worldwide Lifetime Gross</th>\n",
       "      <th>Domestic Lifetime Gross</th>\n",
       "      <th>Domestic %</th>\n",
       "      <th>Foreign Lifetime Gross</th>\n",
       "      <th>Foreign %</th>\n",
       "      <th>Year</th>\n",
       "    </tr>\n",
       "  </thead>\n",
       "  <tbody>\n",
       "    <tr>\n",
       "      <th>0</th>\n",
       "      <td>1</td>\n",
       "      <td>Avatar</td>\n",
       "      <td>$2,923,706,026</td>\n",
       "      <td>$785,221,649</td>\n",
       "      <td>26.9%</td>\n",
       "      <td>$2,138,484,377</td>\n",
       "      <td>73.1%</td>\n",
       "      <td>2009</td>\n",
       "    </tr>\n",
       "    <tr>\n",
       "      <th>1</th>\n",
       "      <td>2</td>\n",
       "      <td>Avengers: Endgame</td>\n",
       "      <td>$2,799,439,100</td>\n",
       "      <td>$858,373,000</td>\n",
       "      <td>30.7%</td>\n",
       "      <td>$1,941,066,100</td>\n",
       "      <td>69.3%</td>\n",
       "      <td>2019</td>\n",
       "    </tr>\n",
       "    <tr>\n",
       "      <th>2</th>\n",
       "      <td>3</td>\n",
       "      <td>Avatar: The Way of Water</td>\n",
       "      <td>$2,319,770,231</td>\n",
       "      <td>$684,020,678</td>\n",
       "      <td>29.5%</td>\n",
       "      <td>$1,635,749,553</td>\n",
       "      <td>70.5%</td>\n",
       "      <td>2022</td>\n",
       "    </tr>\n",
       "    <tr>\n",
       "      <th>3</th>\n",
       "      <td>4</td>\n",
       "      <td>Titanic</td>\n",
       "      <td>$2,264,743,257</td>\n",
       "      <td>$674,292,608</td>\n",
       "      <td>29.8%</td>\n",
       "      <td>$1,590,450,649</td>\n",
       "      <td>70.2%</td>\n",
       "      <td>1997</td>\n",
       "    </tr>\n",
       "    <tr>\n",
       "      <th>4</th>\n",
       "      <td>5</td>\n",
       "      <td>Star Wars: Episode VII - The Force Awakens</td>\n",
       "      <td>$2,071,310,218</td>\n",
       "      <td>$936,662,225</td>\n",
       "      <td>45.2%</td>\n",
       "      <td>$1,134,647,993</td>\n",
       "      <td>54.8%</td>\n",
       "      <td>2015</td>\n",
       "    </tr>\n",
       "    <tr>\n",
       "      <th>5</th>\n",
       "      <td>6</td>\n",
       "      <td>Avengers: Infinity War</td>\n",
       "      <td>$2,052,415,039</td>\n",
       "      <td>$678,815,482</td>\n",
       "      <td>33.1%</td>\n",
       "      <td>$1,373,599,557</td>\n",
       "      <td>66.9%</td>\n",
       "      <td>2018</td>\n",
       "    </tr>\n",
       "    <tr>\n",
       "      <th>6</th>\n",
       "      <td>7</td>\n",
       "      <td>Spider-Man: No Way Home</td>\n",
       "      <td>$1,921,847,111</td>\n",
       "      <td>$814,115,070</td>\n",
       "      <td>42.4%</td>\n",
       "      <td>$1,107,732,041</td>\n",
       "      <td>57.6%</td>\n",
       "      <td>2021</td>\n",
       "    </tr>\n",
       "    <tr>\n",
       "      <th>7</th>\n",
       "      <td>8</td>\n",
       "      <td>Jurassic World</td>\n",
       "      <td>$1,671,537,444</td>\n",
       "      <td>$653,406,625</td>\n",
       "      <td>39.1%</td>\n",
       "      <td>$1,018,130,819</td>\n",
       "      <td>60.9%</td>\n",
       "      <td>2015</td>\n",
       "    </tr>\n",
       "    <tr>\n",
       "      <th>8</th>\n",
       "      <td>9</td>\n",
       "      <td>The Lion King</td>\n",
       "      <td>$1,663,075,401</td>\n",
       "      <td>$543,638,043</td>\n",
       "      <td>32.7%</td>\n",
       "      <td>$1,119,437,358</td>\n",
       "      <td>67.3%</td>\n",
       "      <td>2019</td>\n",
       "    </tr>\n",
       "    <tr>\n",
       "      <th>9</th>\n",
       "      <td>10</td>\n",
       "      <td>The Avengers</td>\n",
       "      <td>$1,520,538,536</td>\n",
       "      <td>$623,357,910</td>\n",
       "      <td>41%</td>\n",
       "      <td>$897,180,626</td>\n",
       "      <td>59%</td>\n",
       "      <td>2012</td>\n",
       "    </tr>\n",
       "  </tbody>\n",
       "</table>\n",
       "</div>"
      ],
      "text/plain": [
       "   Rank                                       Title Worldwide Lifetime Gross  \\\n",
       "0     1                                      Avatar           $2,923,706,026   \n",
       "1     2                           Avengers: Endgame           $2,799,439,100   \n",
       "2     3                    Avatar: The Way of Water           $2,319,770,231   \n",
       "3     4                                     Titanic           $2,264,743,257   \n",
       "4     5  Star Wars: Episode VII - The Force Awakens           $2,071,310,218   \n",
       "5     6                      Avengers: Infinity War           $2,052,415,039   \n",
       "6     7                     Spider-Man: No Way Home           $1,921,847,111   \n",
       "7     8                              Jurassic World           $1,671,537,444   \n",
       "8     9                               The Lion King           $1,663,075,401   \n",
       "9    10                                The Avengers           $1,520,538,536   \n",
       "\n",
       "  Domestic Lifetime Gross Domestic % Foreign Lifetime Gross Foreign %  Year  \n",
       "0            $785,221,649      26.9%         $2,138,484,377     73.1%  2009  \n",
       "1            $858,373,000      30.7%         $1,941,066,100     69.3%  2019  \n",
       "2            $684,020,678      29.5%         $1,635,749,553     70.5%  2022  \n",
       "3            $674,292,608      29.8%         $1,590,450,649     70.2%  1997  \n",
       "4            $936,662,225      45.2%         $1,134,647,993     54.8%  2015  \n",
       "5            $678,815,482      33.1%         $1,373,599,557     66.9%  2018  \n",
       "6            $814,115,070      42.4%         $1,107,732,041     57.6%  2021  \n",
       "7            $653,406,625      39.1%         $1,018,130,819     60.9%  2015  \n",
       "8            $543,638,043      32.7%         $1,119,437,358     67.3%  2019  \n",
       "9            $623,357,910        41%           $897,180,626       59%  2012  "
      ]
     },
     "execution_count": 19,
     "metadata": {},
     "output_type": "execute_result"
    }
   ],
   "source": [
    "#move this to data collection section\n",
    "# original url with no offset on \n",
    "box_office_url = 'https://www.boxofficemojo.com/chart/ww_top_lifetime_gross/?offset='\n",
    "box_office_df = pd.DataFrame()\n",
    "# iterate over each webpage 200 ranks at a time\n",
    "for i in range(0,1000,200):\n",
    "    # append the offset to the url\n",
    "    box_req = requests.get(box_office_url + str(i))\n",
    "    soup = BeautifulSoup(box_req.content, 'html.parser')\n",
    "    # add the next 200 ranks to the current \n",
    "    box_office_df = pd.concat([box_office_df, pd.read_html(io=str(soup.find('table')))[0]])\n",
    "box_office_df.head(10)"
   ]
  },
  {
   "cell_type": "markdown",
   "metadata": {},
   "source": [
    "Rename the 'Title' column to 'primaryTitle' to merge with the original dataframe"
   ]
  },
  {
   "cell_type": "code",
   "execution_count": 20,
   "metadata": {},
   "outputs": [],
   "source": [
    "box_office_df.rename(columns={'Title': 'primaryTitle'},inplace=True)"
   ]
  },
  {
   "cell_type": "markdown",
   "metadata": {},
   "source": [
    "Something about bias here..."
   ]
  },
  {
   "cell_type": "code",
   "execution_count": 21,
   "metadata": {},
   "outputs": [],
   "source": [
    "# 1 if isAdult else, if it's any other value (0 or invalid)\n",
    "# TODO comment on how this will introduce bias\n",
    "function = lambda x: True if x == '1' else False\n",
    "df['isAdult'] = df['isAdult'].apply(function)"
   ]
  },
  {
   "cell_type": "code",
   "execution_count": 22,
   "metadata": {},
   "outputs": [
    {
     "data": {
      "text/html": [
       "<div>\n",
       "<style scoped>\n",
       "    .dataframe tbody tr th:only-of-type {\n",
       "        vertical-align: middle;\n",
       "    }\n",
       "\n",
       "    .dataframe tbody tr th {\n",
       "        vertical-align: top;\n",
       "    }\n",
       "\n",
       "    .dataframe thead th {\n",
       "        text-align: right;\n",
       "    }\n",
       "</style>\n",
       "<table border=\"1\" class=\"dataframe\">\n",
       "  <thead>\n",
       "    <tr style=\"text-align: right;\">\n",
       "      <th></th>\n",
       "      <th>tconst</th>\n",
       "      <th>titleType</th>\n",
       "      <th>primaryTitle</th>\n",
       "      <th>originalTitle</th>\n",
       "      <th>isAdult</th>\n",
       "      <th>startYear</th>\n",
       "      <th>runtimeMinutes</th>\n",
       "      <th>genres</th>\n",
       "      <th>averageRating</th>\n",
       "      <th>numVotes</th>\n",
       "    </tr>\n",
       "  </thead>\n",
       "  <tbody>\n",
       "    <tr>\n",
       "      <th>8</th>\n",
       "      <td>tt0000009</td>\n",
       "      <td>movie</td>\n",
       "      <td>Miss Jerry</td>\n",
       "      <td>Miss Jerry</td>\n",
       "      <td>False</td>\n",
       "      <td>1894</td>\n",
       "      <td>45.0</td>\n",
       "      <td>Romance</td>\n",
       "      <td>5.3</td>\n",
       "      <td>204</td>\n",
       "    </tr>\n",
       "    <tr>\n",
       "      <th>144</th>\n",
       "      <td>tt0000147</td>\n",
       "      <td>movie</td>\n",
       "      <td>The Corbett-Fitzsimmons Fight</td>\n",
       "      <td>The Corbett-Fitzsimmons Fight</td>\n",
       "      <td>False</td>\n",
       "      <td>1897</td>\n",
       "      <td>100.0</td>\n",
       "      <td>Documentary,News,Sport</td>\n",
       "      <td>5.3</td>\n",
       "      <td>469</td>\n",
       "    </tr>\n",
       "    <tr>\n",
       "      <th>326</th>\n",
       "      <td>tt0000502</td>\n",
       "      <td>movie</td>\n",
       "      <td>Bohemios</td>\n",
       "      <td>Bohemios</td>\n",
       "      <td>False</td>\n",
       "      <td>1905</td>\n",
       "      <td>100.0</td>\n",
       "      <td>\\N</td>\n",
       "      <td>4.1</td>\n",
       "      <td>15</td>\n",
       "    </tr>\n",
       "    <tr>\n",
       "      <th>358</th>\n",
       "      <td>tt0000574</td>\n",
       "      <td>movie</td>\n",
       "      <td>The Story of the Kelly Gang</td>\n",
       "      <td>The Story of the Kelly Gang</td>\n",
       "      <td>False</td>\n",
       "      <td>1906</td>\n",
       "      <td>70.0</td>\n",
       "      <td>Action,Adventure,Biography</td>\n",
       "      <td>6.0</td>\n",
       "      <td>826</td>\n",
       "    </tr>\n",
       "    <tr>\n",
       "      <th>366</th>\n",
       "      <td>tt0000591</td>\n",
       "      <td>movie</td>\n",
       "      <td>The Prodigal Son</td>\n",
       "      <td>L'enfant prodigue</td>\n",
       "      <td>False</td>\n",
       "      <td>1907</td>\n",
       "      <td>90.0</td>\n",
       "      <td>Drama</td>\n",
       "      <td>4.4</td>\n",
       "      <td>20</td>\n",
       "    </tr>\n",
       "  </tbody>\n",
       "</table>\n",
       "</div>"
      ],
      "text/plain": [
       "        tconst titleType                   primaryTitle  \\\n",
       "8    tt0000009     movie                     Miss Jerry   \n",
       "144  tt0000147     movie  The Corbett-Fitzsimmons Fight   \n",
       "326  tt0000502     movie                       Bohemios   \n",
       "358  tt0000574     movie    The Story of the Kelly Gang   \n",
       "366  tt0000591     movie               The Prodigal Son   \n",
       "\n",
       "                     originalTitle  isAdult  startYear  runtimeMinutes  \\\n",
       "8                       Miss Jerry    False       1894            45.0   \n",
       "144  The Corbett-Fitzsimmons Fight    False       1897           100.0   \n",
       "326                       Bohemios    False       1905           100.0   \n",
       "358    The Story of the Kelly Gang    False       1906            70.0   \n",
       "366              L'enfant prodigue    False       1907            90.0   \n",
       "\n",
       "                         genres  averageRating  numVotes  \n",
       "8                       Romance            5.3       204  \n",
       "144      Documentary,News,Sport            5.3       469  \n",
       "326                          \\N            4.1        15  \n",
       "358  Action,Adventure,Biography            6.0       826  \n",
       "366                       Drama            4.4        20  "
      ]
     },
     "execution_count": 22,
     "metadata": {},
     "output_type": "execute_result"
    }
   ],
   "source": [
    "\n",
    "df.head(5)"
   ]
  },
  {
   "cell_type": "markdown",
   "metadata": {},
   "source": [
    "## Step 3: Exploratory Analysis and Data Vizualization"
   ]
  },
  {
   "cell_type": "markdown",
   "metadata": {},
   "source": [
    "### Amount of movies"
   ]
  },
  {
   "cell_type": "markdown",
   "metadata": {},
   "source": [
    "Let's look at how many movies were produced every year. Then we can plot it as a histogram with each bin counting 5 years worth of data."
   ]
  },
  {
   "cell_type": "code",
   "execution_count": 23,
   "metadata": {},
   "outputs": [
    {
     "data": {
      "text/plain": [
       "(array([4.0000e+00, 9.0000e+00, 4.5000e+01, 2.9500e+02, 1.2290e+03,\n",
       "        1.4880e+03, 2.0050e+03, 3.3950e+03, 4.9950e+03, 4.9030e+03,\n",
       "        4.0460e+03, 5.5450e+03, 6.6400e+03, 7.4880e+03, 8.7680e+03,\n",
       "        1.0979e+04, 1.0963e+04, 1.1721e+04, 1.2835e+04, 1.2713e+04,\n",
       "        1.3397e+04, 1.7296e+04, 2.5548e+04, 3.8394e+04, 5.8730e+04]),\n",
       " array([1894., 1899., 1904., 1909., 1914., 1919., 1924., 1929., 1934.,\n",
       "        1939., 1944., 1949., 1954., 1959., 1964., 1969., 1974., 1979.,\n",
       "        1984., 1989., 1994., 1999., 2004., 2009., 2014., 2019.]),\n",
       " <BarContainer object of 25 artists>)"
      ]
     },
     "execution_count": 23,
     "metadata": {},
     "output_type": "execute_result"
    },
    {
     "data": {
      "image/png": "[encoded data removed]",
      "text/plain": [
       "<Figure size 432x288 with 1 Axes>"
      ]
     },
     "metadata": {
      "needs_background": "light"
     },
     "output_type": "display_data"
    }
   ],
   "source": [
    "# count of movies for each year\n",
    "years = df['startYear']\n",
    "# create bins of size 5 starting \n",
    "bins = np.arange(start=df['startYear'].min(),stop=df['startYear'].max(),step=5)\n",
    "plt.xlabel('period (5 years)')\n",
    "plt.ylabel('Amount of Movies')\n",
    "plt.title(label='Number of Movies per 5 Years')\n",
    "plt.hist(x=years,bins=bins)"
   ]
  },
  {
   "cell_type": "markdown",
   "metadata": {},
   "source": [
    "Observe as time progressed more and more movies were created. From the late 1800s to the late 1910s the camera and filming technology was very limited making it difficult to produce movies. Then, as the technology to film and store movies became more advance the demand to watch those movies also grew causing more to be produced. "
   ]
  },
  {
   "cell_type": "markdown",
   "metadata": {},
   "source": [
    "### Runtime"
   ]
  },
  {
   "cell_type": "markdown",
   "metadata": {},
   "source": [
    "Next, let's look at the runtimes of movies over the years."
   ]
  },
  {
   "cell_type": "code",
   "execution_count": 24,
   "metadata": {},
   "outputs": [],
   "source": [
    "by_year = df.dropna(axis=0,subset='runtimeMinutes').groupby(by='startYear')"
   ]
  },
  {
   "cell_type": "code",
   "execution_count": 25,
   "metadata": {},
   "outputs": [
    {
     "data": {
      "text/plain": [
       "[<matplotlib.lines.Line2D at 0x7fb29cdf9460>]"
      ]
     },
     "execution_count": 25,
     "metadata": {},
     "output_type": "execute_result"
    },
    {
     "data": {
      "image/png": "[encoded data removed]",
      "text/plain": [
       "<Figure size 432x288 with 1 Axes>"
      ]
     },
     "metadata": {
      "needs_background": "light"
     },
     "output_type": "display_data"
    }
   ],
   "source": [
    "avgs = by_year['runtimeMinutes'].mean()\n",
    "plt.xlabel('year')\n",
    "plt.ylabel('runtime (minutes)')\n",
    "plt.title('Average runtime by year')\n",
    "plt.plot(avgs)"
   ]
  },
  {
   "cell_type": "code",
   "execution_count": 26,
   "metadata": {},
   "outputs": [
    {
     "data": {
      "text/plain": [
       "[<matplotlib.lines.Line2D at 0x7fb2a1b2e370>]"
      ]
     },
     "execution_count": 26,
     "metadata": {},
     "output_type": "execute_result"
    },
    {
     "data": {
      "image/png": "[encoded data removed]",
      "text/plain": [
       "<Figure size 432x288 with 1 Axes>"
      ]
     },
     "metadata": {
      "needs_background": "light"
     },
     "output_type": "display_data"
    }
   ],
   "source": [
    "plt.xlabel('year')\n",
    "plt.ylabel('runtime (minutes)')\n",
    "plt.title('Median runtime by year')\n",
    "plt.plot(by_year['runtimeMinutes'].median())"
   ]
  },
  {
   "cell_type": "markdown",
   "metadata": {},
   "source": [
    "The average and median runtimes of movies has almost an upwards trend then, flattened out to about 90 minutes. In the early 20th century, there were barely any movies thus, it was much more sensitive to outliers. Then, as more movies were produced, the runtime stabilized and followed a trend over the years."
   ]
  },
  {
   "cell_type": "markdown",
   "metadata": {},
   "source": [
    "### Box office"
   ]
  },
  {
   "cell_type": "code",
   "execution_count": 27,
   "metadata": {},
   "outputs": [],
   "source": [
    "boxdf = df[['primaryTitle', 'genres', 'averageRating', 'numVotes', 'runtimeMinutes']].merge(box_office_df, how='right', on='primaryTitle')"
   ]
  },
  {
   "cell_type": "code",
   "execution_count": 28,
   "metadata": {},
   "outputs": [],
   "source": [
    "boxdf = boxdf.sort_values('numVotes', ascending=False).drop_duplicates('primaryTitle').sort_values(by='Rank')"
   ]
  },
  {
   "cell_type": "code",
   "execution_count": 29,
   "metadata": {},
   "outputs": [
    {
     "data": {
      "text/html": [
       "<div>\n",
       "<style scoped>\n",
       "    .dataframe tbody tr th:only-of-type {\n",
       "        vertical-align: middle;\n",
       "    }\n",
       "\n",
       "    .dataframe tbody tr th {\n",
       "        vertical-align: top;\n",
       "    }\n",
       "\n",
       "    .dataframe thead th {\n",
       "        text-align: right;\n",
       "    }\n",
       "</style>\n",
       "<table border=\"1\" class=\"dataframe\">\n",
       "  <thead>\n",
       "    <tr style=\"text-align: right;\">\n",
       "      <th></th>\n",
       "      <th>primaryTitle</th>\n",
       "      <th>genres</th>\n",
       "      <th>averageRating</th>\n",
       "      <th>numVotes</th>\n",
       "      <th>runtimeMinutes</th>\n",
       "      <th>Rank</th>\n",
       "      <th>Worldwide Lifetime Gross</th>\n",
       "      <th>Domestic Lifetime Gross</th>\n",
       "      <th>Domestic %</th>\n",
       "      <th>Foreign Lifetime Gross</th>\n",
       "      <th>Foreign %</th>\n",
       "      <th>Year</th>\n",
       "    </tr>\n",
       "  </thead>\n",
       "  <tbody>\n",
       "    <tr>\n",
       "      <th>2</th>\n",
       "      <td>Avatar</td>\n",
       "      <td>Action,Adventure,Fantasy</td>\n",
       "      <td>7.9</td>\n",
       "      <td>1339903</td>\n",
       "      <td>162.0</td>\n",
       "      <td>1</td>\n",
       "      <td>$2,923,706,026</td>\n",
       "      <td>$785,221,649</td>\n",
       "      <td>26.9%</td>\n",
       "      <td>$2,138,484,377</td>\n",
       "      <td>73.1%</td>\n",
       "      <td>2009</td>\n",
       "    </tr>\n",
       "    <tr>\n",
       "      <th>4</th>\n",
       "      <td>Avengers: Endgame</td>\n",
       "      <td>Action,Adventure,Drama</td>\n",
       "      <td>8.4</td>\n",
       "      <td>1174213</td>\n",
       "      <td>181.0</td>\n",
       "      <td>2</td>\n",
       "      <td>$2,799,439,100</td>\n",
       "      <td>$858,373,000</td>\n",
       "      <td>30.7%</td>\n",
       "      <td>$1,941,066,100</td>\n",
       "      <td>69.3%</td>\n",
       "      <td>2019</td>\n",
       "    </tr>\n",
       "    <tr>\n",
       "      <th>5</th>\n",
       "      <td>Avatar: The Way of Water</td>\n",
       "      <td>Action,Adventure,Fantasy</td>\n",
       "      <td>7.7</td>\n",
       "      <td>375367</td>\n",
       "      <td>192.0</td>\n",
       "      <td>3</td>\n",
       "      <td>$2,319,770,231</td>\n",
       "      <td>$684,020,678</td>\n",
       "      <td>29.5%</td>\n",
       "      <td>$1,635,749,553</td>\n",
       "      <td>70.5%</td>\n",
       "      <td>2022</td>\n",
       "    </tr>\n",
       "    <tr>\n",
       "      <th>8</th>\n",
       "      <td>Titanic</td>\n",
       "      <td>Drama,Romance</td>\n",
       "      <td>7.9</td>\n",
       "      <td>1216748</td>\n",
       "      <td>194.0</td>\n",
       "      <td>4</td>\n",
       "      <td>$2,264,743,257</td>\n",
       "      <td>$674,292,608</td>\n",
       "      <td>29.8%</td>\n",
       "      <td>$1,590,450,649</td>\n",
       "      <td>70.2%</td>\n",
       "      <td>1997</td>\n",
       "    </tr>\n",
       "    <tr>\n",
       "      <th>12</th>\n",
       "      <td>Star Wars: Episode VII - The Force Awakens</td>\n",
       "      <td>Action,Adventure,Sci-Fi</td>\n",
       "      <td>7.8</td>\n",
       "      <td>945729</td>\n",
       "      <td>138.0</td>\n",
       "      <td>5</td>\n",
       "      <td>$2,071,310,218</td>\n",
       "      <td>$936,662,225</td>\n",
       "      <td>45.2%</td>\n",
       "      <td>$1,134,647,993</td>\n",
       "      <td>54.8%</td>\n",
       "      <td>2015</td>\n",
       "    </tr>\n",
       "    <tr>\n",
       "      <th>13</th>\n",
       "      <td>Avengers: Infinity War</td>\n",
       "      <td>Action,Adventure,Sci-Fi</td>\n",
       "      <td>8.4</td>\n",
       "      <td>1118036</td>\n",
       "      <td>149.0</td>\n",
       "      <td>6</td>\n",
       "      <td>$2,052,415,039</td>\n",
       "      <td>$678,815,482</td>\n",
       "      <td>33.1%</td>\n",
       "      <td>$1,373,599,557</td>\n",
       "      <td>66.9%</td>\n",
       "      <td>2018</td>\n",
       "    </tr>\n",
       "    <tr>\n",
       "      <th>14</th>\n",
       "      <td>Spider-Man: No Way Home</td>\n",
       "      <td>Action,Adventure,Fantasy</td>\n",
       "      <td>8.2</td>\n",
       "      <td>791714</td>\n",
       "      <td>148.0</td>\n",
       "      <td>7</td>\n",
       "      <td>$1,921,847,111</td>\n",
       "      <td>$814,115,070</td>\n",
       "      <td>42.4%</td>\n",
       "      <td>$1,107,732,041</td>\n",
       "      <td>57.6%</td>\n",
       "      <td>2021</td>\n",
       "    </tr>\n",
       "    <tr>\n",
       "      <th>15</th>\n",
       "      <td>Jurassic World</td>\n",
       "      <td>Action,Adventure,Sci-Fi</td>\n",
       "      <td>6.9</td>\n",
       "      <td>655694</td>\n",
       "      <td>124.0</td>\n",
       "      <td>8</td>\n",
       "      <td>$1,671,537,444</td>\n",
       "      <td>$653,406,625</td>\n",
       "      <td>39.1%</td>\n",
       "      <td>$1,018,130,819</td>\n",
       "      <td>60.9%</td>\n",
       "      <td>2015</td>\n",
       "    </tr>\n",
       "    <tr>\n",
       "      <th>22</th>\n",
       "      <td>The Avengers</td>\n",
       "      <td>Action,Sci-Fi</td>\n",
       "      <td>8.0</td>\n",
       "      <td>1412998</td>\n",
       "      <td>143.0</td>\n",
       "      <td>10</td>\n",
       "      <td>$1,520,538,536</td>\n",
       "      <td>$623,357,910</td>\n",
       "      <td>41%</td>\n",
       "      <td>$897,180,626</td>\n",
       "      <td>59%</td>\n",
       "      <td>2012</td>\n",
       "    </tr>\n",
       "    <tr>\n",
       "      <th>23</th>\n",
       "      <td>Furious 7</td>\n",
       "      <td>Action,Crime,Thriller</td>\n",
       "      <td>7.1</td>\n",
       "      <td>398085</td>\n",
       "      <td>137.0</td>\n",
       "      <td>11</td>\n",
       "      <td>$1,515,341,399</td>\n",
       "      <td>$353,007,020</td>\n",
       "      <td>23.3%</td>\n",
       "      <td>$1,162,334,379</td>\n",
       "      <td>76.7%</td>\n",
       "      <td>2015</td>\n",
       "    </tr>\n",
       "  </tbody>\n",
       "</table>\n",
       "</div>"
      ],
      "text/plain": [
       "                                  primaryTitle                    genres  \\\n",
       "2                                       Avatar  Action,Adventure,Fantasy   \n",
       "4                            Avengers: Endgame    Action,Adventure,Drama   \n",
       "5                     Avatar: The Way of Water  Action,Adventure,Fantasy   \n",
       "8                                      Titanic             Drama,Romance   \n",
       "12  Star Wars: Episode VII - The Force Awakens   Action,Adventure,Sci-Fi   \n",
       "13                      Avengers: Infinity War   Action,Adventure,Sci-Fi   \n",
       "14                     Spider-Man: No Way Home  Action,Adventure,Fantasy   \n",
       "15                              Jurassic World   Action,Adventure,Sci-Fi   \n",
       "22                                The Avengers             Action,Sci-Fi   \n",
       "23                                   Furious 7     Action,Crime,Thriller   \n",
       "\n",
       "    averageRating  numVotes  runtimeMinutes  Rank Worldwide Lifetime Gross  \\\n",
       "2             7.9   1339903           162.0     1           $2,923,706,026   \n",
       "4             8.4   1174213           181.0     2           $2,799,439,100   \n",
       "5             7.7    375367           192.0     3           $2,319,770,231   \n",
       "8             7.9   1216748           194.0     4           $2,264,743,257   \n",
       "12            7.8    945729           138.0     5           $2,071,310,218   \n",
       "13            8.4   1118036           149.0     6           $2,052,415,039   \n",
       "14            8.2    791714           148.0     7           $1,921,847,111   \n",
       "15            6.9    655694           124.0     8           $1,671,537,444   \n",
       "22            8.0   1412998           143.0    10           $1,520,538,536   \n",
       "23            7.1    398085           137.0    11           $1,515,341,399   \n",
       "\n",
       "   Domestic Lifetime Gross Domestic % Foreign Lifetime Gross Foreign %  Year  \n",
       "2             $785,221,649      26.9%         $2,138,484,377     73.1%  2009  \n",
       "4             $858,373,000      30.7%         $1,941,066,100     69.3%  2019  \n",
       "5             $684,020,678      29.5%         $1,635,749,553     70.5%  2022  \n",
       "8             $674,292,608      29.8%         $1,590,450,649     70.2%  1997  \n",
       "12            $936,662,225      45.2%         $1,134,647,993     54.8%  2015  \n",
       "13            $678,815,482      33.1%         $1,373,599,557     66.9%  2018  \n",
       "14            $814,115,070      42.4%         $1,107,732,041     57.6%  2021  \n",
       "15            $653,406,625      39.1%         $1,018,130,819     60.9%  2015  \n",
       "22            $623,357,910        41%           $897,180,626       59%  2012  \n",
       "23            $353,007,020      23.3%         $1,162,334,379     76.7%  2015  "
      ]
     },
     "execution_count": 29,
     "metadata": {},
     "output_type": "execute_result"
    }
   ],
   "source": [
    "boxdf.head(10)"
   ]
  },
  {
   "cell_type": "code",
   "execution_count": 30,
   "metadata": {},
   "outputs": [
    {
     "data": {
      "text/plain": [
       "1234567.0"
      ]
     },
     "execution_count": 30,
     "metadata": {},
     "output_type": "execute_result"
    }
   ],
   "source": [
    "locale.atof('$1,234,567'.strip('$'))"
   ]
  },
  {
   "cell_type": "code",
   "execution_count": 31,
   "metadata": {},
   "outputs": [],
   "source": [
    "convert = lambda x: locale.atof(x.strip('$')) if x != '-' else np.nan\n",
    "boxdf['Worldwide Lifetime Gross'] = boxdf['Worldwide Lifetime Gross'].apply(convert)\n",
    "boxdf['Domestic Lifetime Gross'] = boxdf['Domestic Lifetime Gross'].apply(convert)\n",
    "boxdf['Foreign Lifetime Gross'] = boxdf['Foreign Lifetime Gross'].apply(convert)"
   ]
  },
  {
   "cell_type": "code",
   "execution_count": 32,
   "metadata": {},
   "outputs": [
    {
     "data": {
      "text/html": [
       "<div>\n",
       "<style scoped>\n",
       "    .dataframe tbody tr th:only-of-type {\n",
       "        vertical-align: middle;\n",
       "    }\n",
       "\n",
       "    .dataframe tbody tr th {\n",
       "        vertical-align: top;\n",
       "    }\n",
       "\n",
       "    .dataframe thead th {\n",
       "        text-align: right;\n",
       "    }\n",
       "</style>\n",
       "<table border=\"1\" class=\"dataframe\">\n",
       "  <thead>\n",
       "    <tr style=\"text-align: right;\">\n",
       "      <th></th>\n",
       "      <th>primaryTitle</th>\n",
       "      <th>genres</th>\n",
       "      <th>averageRating</th>\n",
       "      <th>numVotes</th>\n",
       "      <th>runtimeMinutes</th>\n",
       "      <th>Rank</th>\n",
       "      <th>Worldwide Lifetime Gross</th>\n",
       "      <th>Domestic Lifetime Gross</th>\n",
       "      <th>Domestic %</th>\n",
       "      <th>Foreign Lifetime Gross</th>\n",
       "      <th>Foreign %</th>\n",
       "      <th>Year</th>\n",
       "    </tr>\n",
       "  </thead>\n",
       "  <tbody>\n",
       "    <tr>\n",
       "      <th>2</th>\n",
       "      <td>Avatar</td>\n",
       "      <td>Action,Adventure,Fantasy</td>\n",
       "      <td>7.9</td>\n",
       "      <td>1339903</td>\n",
       "      <td>162.0</td>\n",
       "      <td>1</td>\n",
       "      <td>2.923706e+09</td>\n",
       "      <td>785221649.0</td>\n",
       "      <td>26.9%</td>\n",
       "      <td>2.138484e+09</td>\n",
       "      <td>73.1%</td>\n",
       "      <td>2009</td>\n",
       "    </tr>\n",
       "    <tr>\n",
       "      <th>4</th>\n",
       "      <td>Avengers: Endgame</td>\n",
       "      <td>Action,Adventure,Drama</td>\n",
       "      <td>8.4</td>\n",
       "      <td>1174213</td>\n",
       "      <td>181.0</td>\n",
       "      <td>2</td>\n",
       "      <td>2.799439e+09</td>\n",
       "      <td>858373000.0</td>\n",
       "      <td>30.7%</td>\n",
       "      <td>1.941066e+09</td>\n",
       "      <td>69.3%</td>\n",
       "      <td>2019</td>\n",
       "    </tr>\n",
       "    <tr>\n",
       "      <th>5</th>\n",
       "      <td>Avatar: The Way of Water</td>\n",
       "      <td>Action,Adventure,Fantasy</td>\n",
       "      <td>7.7</td>\n",
       "      <td>375367</td>\n",
       "      <td>192.0</td>\n",
       "      <td>3</td>\n",
       "      <td>2.319770e+09</td>\n",
       "      <td>684020678.0</td>\n",
       "      <td>29.5%</td>\n",
       "      <td>1.635750e+09</td>\n",
       "      <td>70.5%</td>\n",
       "      <td>2022</td>\n",
       "    </tr>\n",
       "    <tr>\n",
       "      <th>8</th>\n",
       "      <td>Titanic</td>\n",
       "      <td>Drama,Romance</td>\n",
       "      <td>7.9</td>\n",
       "      <td>1216748</td>\n",
       "      <td>194.0</td>\n",
       "      <td>4</td>\n",
       "      <td>2.264743e+09</td>\n",
       "      <td>674292608.0</td>\n",
       "      <td>29.8%</td>\n",
       "      <td>1.590451e+09</td>\n",
       "      <td>70.2%</td>\n",
       "      <td>1997</td>\n",
       "    </tr>\n",
       "    <tr>\n",
       "      <th>12</th>\n",
       "      <td>Star Wars: Episode VII - The Force Awakens</td>\n",
       "      <td>Action,Adventure,Sci-Fi</td>\n",
       "      <td>7.8</td>\n",
       "      <td>945729</td>\n",
       "      <td>138.0</td>\n",
       "      <td>5</td>\n",
       "      <td>2.071310e+09</td>\n",
       "      <td>936662225.0</td>\n",
       "      <td>45.2%</td>\n",
       "      <td>1.134648e+09</td>\n",
       "      <td>54.8%</td>\n",
       "      <td>2015</td>\n",
       "    </tr>\n",
       "    <tr>\n",
       "      <th>13</th>\n",
       "      <td>Avengers: Infinity War</td>\n",
       "      <td>Action,Adventure,Sci-Fi</td>\n",
       "      <td>8.4</td>\n",
       "      <td>1118036</td>\n",
       "      <td>149.0</td>\n",
       "      <td>6</td>\n",
       "      <td>2.052415e+09</td>\n",
       "      <td>678815482.0</td>\n",
       "      <td>33.1%</td>\n",
       "      <td>1.373600e+09</td>\n",
       "      <td>66.9%</td>\n",
       "      <td>2018</td>\n",
       "    </tr>\n",
       "    <tr>\n",
       "      <th>14</th>\n",
       "      <td>Spider-Man: No Way Home</td>\n",
       "      <td>Action,Adventure,Fantasy</td>\n",
       "      <td>8.2</td>\n",
       "      <td>791714</td>\n",
       "      <td>148.0</td>\n",
       "      <td>7</td>\n",
       "      <td>1.921847e+09</td>\n",
       "      <td>814115070.0</td>\n",
       "      <td>42.4%</td>\n",
       "      <td>1.107732e+09</td>\n",
       "      <td>57.6%</td>\n",
       "      <td>2021</td>\n",
       "    </tr>\n",
       "    <tr>\n",
       "      <th>15</th>\n",
       "      <td>Jurassic World</td>\n",
       "      <td>Action,Adventure,Sci-Fi</td>\n",
       "      <td>6.9</td>\n",
       "      <td>655694</td>\n",
       "      <td>124.0</td>\n",
       "      <td>8</td>\n",
       "      <td>1.671537e+09</td>\n",
       "      <td>653406625.0</td>\n",
       "      <td>39.1%</td>\n",
       "      <td>1.018131e+09</td>\n",
       "      <td>60.9%</td>\n",
       "      <td>2015</td>\n",
       "    </tr>\n",
       "    <tr>\n",
       "      <th>22</th>\n",
       "      <td>The Avengers</td>\n",
       "      <td>Action,Sci-Fi</td>\n",
       "      <td>8.0</td>\n",
       "      <td>1412998</td>\n",
       "      <td>143.0</td>\n",
       "      <td>10</td>\n",
       "      <td>1.520539e+09</td>\n",
       "      <td>623357910.0</td>\n",
       "      <td>41%</td>\n",
       "      <td>8.971806e+08</td>\n",
       "      <td>59%</td>\n",
       "      <td>2012</td>\n",
       "    </tr>\n",
       "    <tr>\n",
       "      <th>23</th>\n",
       "      <td>Furious 7</td>\n",
       "      <td>Action,Crime,Thriller</td>\n",
       "      <td>7.1</td>\n",
       "      <td>398085</td>\n",
       "      <td>137.0</td>\n",
       "      <td>11</td>\n",
       "      <td>1.515341e+09</td>\n",
       "      <td>353007020.0</td>\n",
       "      <td>23.3%</td>\n",
       "      <td>1.162334e+09</td>\n",
       "      <td>76.7%</td>\n",
       "      <td>2015</td>\n",
       "    </tr>\n",
       "  </tbody>\n",
       "</table>\n",
       "</div>"
      ],
      "text/plain": [
       "                                  primaryTitle                    genres  \\\n",
       "2                                       Avatar  Action,Adventure,Fantasy   \n",
       "4                            Avengers: Endgame    Action,Adventure,Drama   \n",
       "5                     Avatar: The Way of Water  Action,Adventure,Fantasy   \n",
       "8                                      Titanic             Drama,Romance   \n",
       "12  Star Wars: Episode VII - The Force Awakens   Action,Adventure,Sci-Fi   \n",
       "13                      Avengers: Infinity War   Action,Adventure,Sci-Fi   \n",
       "14                     Spider-Man: No Way Home  Action,Adventure,Fantasy   \n",
       "15                              Jurassic World   Action,Adventure,Sci-Fi   \n",
       "22                                The Avengers             Action,Sci-Fi   \n",
       "23                                   Furious 7     Action,Crime,Thriller   \n",
       "\n",
       "    averageRating  numVotes  runtimeMinutes  Rank  Worldwide Lifetime Gross  \\\n",
       "2             7.9   1339903           162.0     1              2.923706e+09   \n",
       "4             8.4   1174213           181.0     2              2.799439e+09   \n",
       "5             7.7    375367           192.0     3              2.319770e+09   \n",
       "8             7.9   1216748           194.0     4              2.264743e+09   \n",
       "12            7.8    945729           138.0     5              2.071310e+09   \n",
       "13            8.4   1118036           149.0     6              2.052415e+09   \n",
       "14            8.2    791714           148.0     7              1.921847e+09   \n",
       "15            6.9    655694           124.0     8              1.671537e+09   \n",
       "22            8.0   1412998           143.0    10              1.520539e+09   \n",
       "23            7.1    398085           137.0    11              1.515341e+09   \n",
       "\n",
       "    Domestic Lifetime Gross Domestic %  Foreign Lifetime Gross Foreign %  Year  \n",
       "2               785221649.0      26.9%            2.138484e+09     73.1%  2009  \n",
       "4               858373000.0      30.7%            1.941066e+09     69.3%  2019  \n",
       "5               684020678.0      29.5%            1.635750e+09     70.5%  2022  \n",
       "8               674292608.0      29.8%            1.590451e+09     70.2%  1997  \n",
       "12              936662225.0      45.2%            1.134648e+09     54.8%  2015  \n",
       "13              678815482.0      33.1%            1.373600e+09     66.9%  2018  \n",
       "14              814115070.0      42.4%            1.107732e+09     57.6%  2021  \n",
       "15              653406625.0      39.1%            1.018131e+09     60.9%  2015  \n",
       "22              623357910.0        41%            8.971806e+08       59%  2012  \n",
       "23              353007020.0      23.3%            1.162334e+09     76.7%  2015  "
      ]
     },
     "execution_count": 32,
     "metadata": {},
     "output_type": "execute_result"
    }
   ],
   "source": [
    "boxdf.head(10)"
   ]
  },
  {
   "cell_type": "code",
   "execution_count": 33,
   "metadata": {},
   "outputs": [
    {
     "data": {
      "text/plain": [
       "<Axes: xlabel='averageRating', ylabel='Worldwide Lifetime Gross'>"
      ]
     },
     "execution_count": 33,
     "metadata": {},
     "output_type": "execute_result"
    },
    {
     "data": {
      "image/png": "[encoded data removed]",
      "text/plain": [
       "<Figure size 432x288 with 1 Axes>"
      ]
     },
     "metadata": {
      "needs_background": "light"
     },
     "output_type": "display_data"
    }
   ],
   "source": [
    "boxdf.plot.scatter(x='averageRating', y='Worldwide Lifetime Gross')"
   ]
  },
  {
   "cell_type": "code",
   "execution_count": 34,
   "metadata": {},
   "outputs": [
    {
     "data": {
      "text/plain": [
       "<Axes: xlabel='numVotes', ylabel='Worldwide Lifetime Gross'>"
      ]
     },
     "execution_count": 34,
     "metadata": {},
     "output_type": "execute_result"
    },
    {
     "data": {
      "image/png": "[encoded data removed]",
      "text/plain": [
       "<Figure size 432x288 with 1 Axes>"
      ]
     },
     "metadata": {
      "needs_background": "light"
     },
     "output_type": "display_data"
    }
   ],
   "source": [
    "boxdf.plot.scatter(x='numVotes', y='Worldwide Lifetime Gross')"
   ]
  },
  {
   "cell_type": "code",
   "execution_count": 35,
   "metadata": {},
   "outputs": [
    {
     "data": {
      "text/plain": [
       "<Axes: xlabel='runtimeMinutes', ylabel='Worldwide Lifetime Gross'>"
      ]
     },
     "execution_count": 35,
     "metadata": {},
     "output_type": "execute_result"
    },
    {
     "data": {
      "image/png": "[encoded data removed]",
      "text/plain": [
       "<Figure size 432x288 with 1 Axes>"
      ]
     },
     "metadata": {
      "needs_background": "light"
     },
     "output_type": "display_data"
    }
   ],
   "source": [
    "boxdf.plot.scatter(x='runtimeMinutes', y='Worldwide Lifetime Gross')"
   ]
  },
  {
   "cell_type": "markdown",
   "metadata": {},
   "source": [
    "## Step 4: Analysis, Hypothesis Testing, and Machine Learning"
   ]
  },
  {
   "cell_type": "code",
   "execution_count": 36,
   "metadata": {},
   "outputs": [],
   "source": [
    "boxdf = boxdf.dropna(how='all',subset='numVotes')"
   ]
  },
  {
   "cell_type": "markdown",
   "metadata": {},
   "source": [
    "Let's try normalizing the residuals."
   ]
  },
  {
   "cell_type": "code",
   "execution_count": 37,
   "metadata": {},
   "outputs": [
    {
     "data": {
      "text/plain": [
       "<Axes: title={'center': 'Ratings for Top 1000 Box Office'}, xlabel='averageRating', ylabel='Worldwide Lifetime Gross'>"
      ]
     },
     "execution_count": 37,
     "metadata": {},
     "output_type": "execute_result"
    },
    {
     "data": {
      "image/png": "[encoded data removed]",
      "text/plain": [
       "<Figure size 432x288 with 1 Axes>"
      ]
     },
     "metadata": {
      "needs_background": "light"
     },
     "output_type": "display_data"
    }
   ],
   "source": [
    "boxdf.plot.scatter(x='averageRating',y='Worldwide Lifetime Gross', title='Ratings for Top 1000 Box Office')"
   ]
  },
  {
   "cell_type": "code",
   "execution_count": 98,
   "metadata": {},
   "outputs": [],
   "source": [
    "boxdf = boxdf.rename(columns={'Worldwide Lifetime Gross': 'boxOffice'})\n",
    "thousand = df[df['numVotes'] > 400000].copy()"
   ]
  },
  {
   "cell_type": "markdown",
   "metadata": {},
   "source": [
    "Let's try to compare how the number of votes on a movie impacts its average rating."
   ]
  },
  {
   "cell_type": "code",
   "execution_count": 99,
   "metadata": {},
   "outputs": [
    {
     "data": {
      "image/png": "[encoded data removed]",
      "text/plain": [
       "<Figure size 864x432 with 2 Axes>"
      ]
     },
     "metadata": {
      "needs_background": "light"
     },
     "output_type": "display_data"
    }
   ],
   "source": [
    "figure, (axis1, axis2) = plt.subplots(1,2)\n",
    "\n",
    "# plot the top 1000 box office movies\n",
    "axis1.set_xlabel('number of votes')\n",
    "axis1.set_ylabel('average rating (out of 10)')\n",
    "axis1.set_title('Top 1000 Box Office Movies')\n",
    "axis1.scatter(boxdf['numVotes'], boxdf['averageRating'])\n",
    "\n",
    "# plot all movies\n",
    "axis2.set_xlabel('number of votes')\n",
    "axis2.set_ylabel('average rating (out of 10)')\n",
    "axis2.set_title('All Movies (> 1000 Votes)')\n",
    "axis2.scatter(thousand['numVotes'], thousand['averageRating'])\n",
    "\n",
    "figure.set_size_inches(12,6)\n",
    "plt.show()"
   ]
  },
  {
   "cell_type": "markdown",
   "metadata": {},
   "source": [
    "Let's test how a linear regression model will perform. We want to predict the average rating based on the numbe of votes."
   ]
  },
  {
   "cell_type": "code",
   "execution_count": 100,
   "metadata": {},
   "outputs": [],
   "source": [
    "lin_model = stats.ols(formula='averageRating ~ numVotes', data=thousand).fit()"
   ]
  },
  {
   "cell_type": "markdown",
   "metadata": {},
   "source": [
    "We can now plot the results. It seems this model is inaccurate as the residuals are not normally distributed "
   ]
  },
  {
   "cell_type": "code",
   "execution_count": 101,
   "metadata": {},
   "outputs": [
    {
     "data": {
      "image/png": "[encoded data removed]",
      "text/plain": [
       "<Figure size 864x432 with 2 Axes>"
      ]
     },
     "metadata": {
      "needs_background": "light"
     },
     "output_type": "display_data"
    }
   ],
   "source": [
    "votes = thousand['numVotes']\n",
    "preds = lin_model.predict(votes)\n",
    "\n",
    "figure, (axis1, axis2) = plt.subplots(1,2)\n",
    "\n",
    "# plot the number of votes vs rating with the linear regression model\n",
    "axis1.set_xlabel('number of votes')\n",
    "axis1.set_ylabel('average rating (out of 10)')\n",
    "axis1.set_title('Predictions')\n",
    "axis1.scatter(x=votes, y=thousand['averageRating'])\n",
    "axis1.plot(votes, lin_model.predict(votes))\n",
    "\n",
    "# plot all movies\n",
    "axis2.set_xlabel('predictions')\n",
    "axis2.set_ylabel('residuals')\n",
    "axis2.set_title('All Movies (> 1000 Votes)')\n",
    "axis2.scatter(x=preds, y=lin_model.resid)\n",
    "\n",
    "figure.set_size_inches(12,6)\n",
    "plt.show()"
   ]
  },
  {
   "cell_type": "code",
   "execution_count": 102,
   "metadata": {},
   "outputs": [
    {
     "data": {
      "text/plain": [
       "[<matplotlib.lines.Line2D at 0x7fb2e07be8b0>]"
      ]
     },
     "execution_count": 102,
     "metadata": {},
     "output_type": "execute_result"
    },
    {
     "data": {
      "image/png": "[encoded data removed]",
      "text/plain": [
       "<Figure size 432x288 with 1 Axes>"
      ]
     },
     "metadata": {
      "needs_background": "light"
     },
     "output_type": "display_data"
    }
   ],
   "source": [
    "votes = thousand['numVotes']\n",
    "preds = lin_model.predict(votes)\n",
    "plt.scatter(votes,thousand['averageRating'])\n",
    "plt.xlabel('numVotes')\n",
    "plt.ylabel('predicted rating')\n",
    "plt.plot(votes,lin_model.predict(votes))"
   ]
  },
  {
   "cell_type": "code",
   "execution_count": 103,
   "metadata": {},
   "outputs": [
    {
     "data": {
      "text/plain": [
       "<matplotlib.collections.PathCollection at 0x7fb2ded81a30>"
      ]
     },
     "execution_count": 103,
     "metadata": {},
     "output_type": "execute_result"
    },
    {
     "data": {
      "image/png": "[encoded data removed]",
      "text/plain": [
       "<Figure size 432x288 with 1 Axes>"
      ]
     },
     "metadata": {
      "needs_background": "light"
     },
     "output_type": "display_data"
    }
   ],
   "source": [
    "plt.xlabel('predictions')\n",
    "plt.ylabel('residuals')\n",
    "plt.scatter(preds, lin_model.resid)"
   ]
  },
  {
   "cell_type": "markdown",
   "metadata": {},
   "source": [
    "Let's take a log transform of the average rating"
   ]
  },
  {
   "cell_type": "code",
   "execution_count": 104,
   "metadata": {},
   "outputs": [],
   "source": [
    "thousand['logRating'] = thousand['averageRating'].apply(np.exp)"
   ]
  },
  {
   "cell_type": "code",
   "execution_count": 105,
   "metadata": {},
   "outputs": [],
   "source": [
    "log_model = stats.ols(formula='logRating ~ numVotes',data=thousand).fit()"
   ]
  },
  {
   "cell_type": "code",
   "execution_count": 106,
   "metadata": {},
   "outputs": [
    {
     "data": {
      "text/plain": [
       "<matplotlib.collections.PathCollection at 0x7fb2c2613b80>"
      ]
     },
     "execution_count": 106,
     "metadata": {},
     "output_type": "execute_result"
    },
    {
     "data": {
      "image/png": "[encoded data removed]",
      "text/plain": [
       "<Figure size 432x288 with 1 Axes>"
      ]
     },
     "metadata": {
      "needs_background": "light"
     },
     "output_type": "display_data"
    }
   ],
   "source": [
    "plt.scatter(votes,thousand['logRating'])"
   ]
  },
  {
   "cell_type": "code",
   "execution_count": 115,
   "metadata": {},
   "outputs": [
    {
     "data": {
      "text/plain": [
       "4763"
      ]
     },
     "execution_count": 115,
     "metadata": {},
     "output_type": "execute_result"
    }
   ],
   "source": [
    "thousand.size"
   ]
  },
  {
   "cell_type": "code",
   "execution_count": 107,
   "metadata": {},
   "outputs": [
    {
     "data": {
      "text/plain": [
       "<matplotlib.collections.PathCollection at 0x7fb2cd72bbe0>"
      ]
     },
     "execution_count": 107,
     "metadata": {},
     "output_type": "execute_result"
    },
    {
     "data": {
      "image/png": "[encoded data removed]",
      "text/plain": [
       "<Figure size 432x288 with 1 Axes>"
      ]
     },
     "metadata": {
      "needs_background": "light"
     },
     "output_type": "display_data"
    }
   ],
   "source": [
    "log_preds = log_model.predict(votes)\n",
    "plt.xlabel('predictions')\n",
    "plt.ylabel('residuals')\n",
    "plt.scatter(preds, log_model.resid)"
   ]
  },
  {
   "cell_type": "code",
   "execution_count": 108,
   "metadata": {},
   "outputs": [
    {
     "data": {
      "text/plain": [
       "(array([ 16.,  83., 108., 117.,  57.,  29.,  15.,   5.,   2.,   1.]),\n",
       " array([-2401.26595413, -1653.49687894,  -905.72780375,  -157.95872855,\n",
       "          589.81034664,  1337.57942183,  2085.34849702,  2833.11757222,\n",
       "         3580.88664741,  4328.6557226 ,  5076.42479779]),\n",
       " <BarContainer object of 10 artists>)"
      ]
     },
     "execution_count": 108,
     "metadata": {},
     "output_type": "execute_result"
    },
    {
     "data": {
      "image/png": "[encoded data removed]",
      "text/plain": [
       "<Figure size 432x288 with 1 Axes>"
      ]
     },
     "metadata": {
      "needs_background": "light"
     },
     "output_type": "display_data"
    }
   ],
   "source": [
    "plt.hist(log_model.resid)"
   ]
  },
  {
   "cell_type": "code",
   "execution_count": 109,
   "metadata": {},
   "outputs": [
    {
     "data": {
      "text/plain": [
       "\"\\nk = df.size\\nfor i,row in df.iterrows():\\n    if row['genres'] != '\\\\N':\\n        genres = row['genres'].split(',')\\n        df.loc[i,'genres'] = genres[0]\\n        for g in range(1,len(genres)):\\n            row['genres'] = genres[g]\\n            df.loc[k] = row\\n            k += 1\\n            \\ndf.head(1)\\n\""
      ]
     },
     "execution_count": 109,
     "metadata": {},
     "output_type": "execute_result"
    }
   ],
   "source": [
    "'''\n",
    "k = df.size\n",
    "for i,row in df.iterrows():\n",
    "    if row['genres'] != '\\\\N':\n",
    "        genres = row['genres'].split(',')\n",
    "        df.loc[i,'genres'] = genres[0]\n",
    "        for g in range(1,len(genres)):\n",
    "            row['genres'] = genres[g]\n",
    "            df.loc[k] = row\n",
    "            k += 1\n",
    "            \n",
    "df.head(1)\n",
    "'''"
   ]
  },
  {
   "cell_type": "markdown",
   "metadata": {},
   "source": [
    "## Step 4: Analysis, Hypothesis Testing, and Machine Learning"
   ]
  },
  {
   "cell_type": "code",
   "execution_count": 110,
   "metadata": {},
   "outputs": [],
   "source": [
    "# more in depth, test hypotheses coming from the graphs"
   ]
  },
  {
   "cell_type": "code",
   "execution_count": null,
   "metadata": {},
   "outputs": [],
   "source": []
  },
  {
   "cell_type": "markdown",
   "metadata": {},
   "source": [
    "## Step 5: Insight and Policy Decision"
   ]
  },
  {
   "cell_type": "markdown",
   "metadata": {},
   "source": [
    "## Conclusion"
   ]
  },
  {
   "cell_type": "markdown",
   "metadata": {},
   "source": []
  }
 ],
 "metadata": {
  "kernelspec": {
   "display_name": "Python 3",
   "language": "python",
   "name": "python3"
  },
  "language_info": {
   "codemirror_mode": {
    "name": "ipython",
    "version": 3
   },
   "file_extension": ".py",
   "mimetype": "text/x-python",
   "name": "python",
   "nbconvert_exporter": "python",
   "pygments_lexer": "ipython3",
   "version": "3.9.2"
  }
 },
 "nbformat": 4,
 "nbformat_minor": 2
}
